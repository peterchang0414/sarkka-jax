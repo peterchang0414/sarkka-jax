{
  "nbformat": 4,
  "nbformat_minor": 0,
  "metadata": {
    "colab": {
      "name": "Ch8.ipynb",
      "provenance": [],
      "include_colab_link": true
    },
    "kernelspec": {
      "name": "python3",
      "display_name": "Python 3"
    },
    "language_info": {
      "name": "python"
    }
  },
  "cells": [
    {
      "cell_type": "markdown",
      "metadata": {
        "id": "view-in-github",
        "colab_type": "text"
      },
      "source": [
        "<a href=\"https://colab.research.google.com/github/petergchang/sarkka-jax/blob/main/Ch8.ipynb\" target=\"_parent\"><img src=\"https://colab.research.google.com/assets/colab-badge.svg\" alt=\"Open In Colab\"/></a>"
      ]
    },
    {
      "cell_type": "markdown",
      "source": [
        "#8. Bayesian Smoothing Equations and Exact Solutions\n",
        "\n",
        "This notebook replicates the figures of Chapter 8 of Särkkä's \"Bayesian Filtering and Smoothing\" using JAX.\n",
        "\n",
        "Simo Särkkä (2013), “Bayesian Filtering and Smoothing,” Cambridge University Press. Available: https://users.aalto.fi/~ssarkka/pub/cup_book_online_20131111.pdf\n",
        "\n",
        "This JAX translation is by Peter G. Chang ([@petergchang](https://github.com/petergchang))"
      ],
      "metadata": {
        "id": "zZBa-vrK8I-e"
      }
    },
    {
      "cell_type": "code",
      "execution_count": null,
      "metadata": {
        "id": "KogyqJ90qSZs"
      },
      "outputs": [],
      "source": [
        ""
      ]
    }
  ]
}