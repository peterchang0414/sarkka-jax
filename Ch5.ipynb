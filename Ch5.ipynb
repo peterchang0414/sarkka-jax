{
  "nbformat": 4,
  "nbformat_minor": 0,
  "metadata": {
    "colab": {
      "name": "Ch5.ipynb",
      "provenance": [],
      "include_colab_link": true
    },
    "kernelspec": {
      "name": "python3",
      "display_name": "Python 3"
    },
    "language_info": {
      "name": "python"
    }
  },
  "cells": [
    {
      "cell_type": "markdown",
      "metadata": {
        "id": "view-in-github",
        "colab_type": "text"
      },
      "source": [
        "<a href=\"https://colab.research.google.com/github/petergchang/sarkka-jax/blob/main/Ch5.ipynb\" target=\"_parent\"><img src=\"https://colab.research.google.com/assets/colab-badge.svg\" alt=\"Open In Colab\"/></a>"
      ]
    },
    {
      "cell_type": "markdown",
      "source": [
        "# 5. Extended and Unscented Kalman Filtering"
      ],
      "metadata": {
        "id": "4j2SH7ks97hb"
      }
    },
    {
      "cell_type": "markdown",
      "source": [
        "This notebook replicates the figures of Chapter 5 of  Särkkä's \"Bayesian Filtering and Smoothing\" using JAX.\n",
        "\n",
        "To avoid clutter, all the plotting functions are stored in `plotting.py`. In addition, after its initial demonstration, any redundant data simulation is stored in `simulations.py`.\n",
        "\n",
        "Simo Särkkä (2013), “Bayesian Filtering and Smoothing,” Cambridge University Press. Available: https://users.aalto.fi/~ssarkka/pub/cup_book_online_20131111.pdf\n",
        "\n",
        "This JAX translation is by Peter G. Chang ([@petergchang](https://github.com/petergchang))\n",
        "\n"
      ],
      "metadata": {
        "id": "AYrePRtV4RIK"
      }
    },
    {
      "cell_type": "markdown",
      "source": [
        "## 5.0 Imports"
      ],
      "metadata": {
        "id": "vLt4p8Tx4hWN"
      }
    },
    {
      "cell_type": "code",
      "source": [
        "!git clone https://github.com/petergchang/sarkka-jax.git\n",
        "%cd sarkka-jax"
      ],
      "metadata": {
        "colab": {
          "base_uri": "https://localhost:8080/"
        },
        "id": "djYX5weABagr",
        "outputId": "7c2fd6d6-9245-4c7f-da1c-076955427e46"
      },
      "execution_count": 1,
      "outputs": [
        {
          "output_type": "stream",
          "name": "stdout",
          "text": [
            "Cloning into 'sarkka-jax'...\n",
            "remote: Enumerating objects: 332, done.\u001b[K\n",
            "remote: Counting objects: 100% (219/219), done.\u001b[K\n",
            "remote: Compressing objects: 100% (138/138), done.\u001b[K\n",
            "remote: Total 332 (delta 126), reused 146 (delta 81), pack-reused 113\u001b[K\n",
            "Receiving objects: 100% (332/332), 1.78 MiB | 23.10 MiB/s, done.\n",
            "Resolving deltas: 100% (171/171), done.\n",
            "/content/sarkka-jax\n"
          ]
        }
      ]
    },
    {
      "cell_type": "code",
      "execution_count": 2,
      "metadata": {
        "id": "U4xUpwZM3-z5"
      },
      "outputs": [],
      "source": [
        "%matplotlib inline\n",
        "import matplotlib.pyplot as plt\n",
        "\n",
        "import jax\n",
        "import jax.numpy as jnp\n",
        "import jax.random as jr\n",
        "from jax import vmap\n",
        "from jax import lax\n",
        "from jax import jacfwd\n",
        "\n",
        "import plotting as plot"
      ]
    },
    {
      "cell_type": "code",
      "source": [
        "# For pretty print of ndarrays\n",
        "jnp.set_printoptions(formatter={'float_kind':\"{:.2f}\".format})"
      ],
      "metadata": {
        "id": "Lh8pVrU6oNsW"
      },
      "execution_count": 3,
      "outputs": []
    },
    {
      "cell_type": "markdown",
      "source": [
        "## 5.2 Extended Kalman Filter"
      ],
      "metadata": {
        "id": "33ISOI7QtWlP"
      }
    },
    {
      "cell_type": "markdown",
      "source": [
        "First, we simulate the pendulum data using the following transition model:\n",
        "\\begin{align*}\n",
        "  \\begin{pmatrix} x_{1,k} \\\\ x_{2,k} \\end{pmatrix} &= \n",
        "  \\begin{pmatrix} x_{1,k-1} + x_{2,k-1} \\Delta t \\\\\n",
        "    x_{2,k-1} - g \\sin(x_{1,k-1}) \\Delta t\n",
        "  \\end{pmatrix} + q_{k-1} \\\\\n",
        "  y_{k} &= \\sin(x_{1,k}) + r_k \\\\\n",
        "  y_{x_k} &= \\arcsin(y_k) = \\arcsin(\\sin(x_{1,k}) + r_k)\n",
        "\\end{align*}"
      ],
      "metadata": {
        "id": "BLuO9E_etVp-"
      }
    },
    {
      "cell_type": "code",
      "source": [
        "# Function to simulate pendulum (Example 3.7)\n",
        "def simulate_pendulum(m_0, f, h, Q, R, num_steps, key=0):\n",
        "    if isinstance(key, int):\n",
        "        key = jr.PRNGKey(key)\n",
        "    M = m_0.shape[0]\n",
        "\n",
        "    def _step(carry, rng):\n",
        "        state = carry\n",
        "        rng1, rng2 = jr.split(rng, 2)\n",
        "\n",
        "        next_state = f(state) + jr.multivariate_normal(rng1, jnp.zeros(M), Q)\n",
        "        obs = h(next_state) + jr.normal(rng2) * R\n",
        "        return next_state, (next_state, obs)\n",
        "\n",
        "    rngs = jr.split(key, num_steps)\n",
        "    _, (states, observations) = lax.scan(\n",
        "        _step, m_0, rngs\n",
        "    )\n",
        "    return states, observations"
      ],
      "metadata": {
        "id": "GTcJutobtduz"
      },
      "execution_count": 4,
      "outputs": []
    },
    {
      "cell_type": "code",
      "source": [
        "# Params for pendulum simulation\n",
        "m_0 = jnp.array([jnp.pi/2, 0])\n",
        "dt = 0.0125\n",
        "q = 1\n",
        "g = 9.8\n",
        "Q = jnp.array([[q*dt**3/3, q*dt**2/2],\n",
        "               [q*dt**2/2,      q*dt]])\n",
        "R = 0.3\n",
        "f = lambda x: jnp.array([x[0] + x[1]*dt, x[1] - g*jnp.sin(x[0])*dt])\n",
        "h = lambda x: jnp.array([jnp.sin(x[0])])\n",
        "\n",
        "# Simulate pendulum angle\n",
        "states, obs = simulate_pendulum(m_0, f, h, Q, R, num_steps=400)\n",
        "\n",
        "# # Apply arcsin to measured horizontal position to compute measured angle\n",
        "# obs_angle = jnp.arcsin(jnp.clip(obs[:,0], -1, 1)) "
      ],
      "metadata": {
        "id": "-8c27qTkIS0F",
        "outputId": "861b1343-b33a-4c83-fd6e-d1ccaed5b325",
        "colab": {
          "base_uri": "https://localhost:8080/"
        }
      },
      "execution_count": 5,
      "outputs": [
        {
          "output_type": "stream",
          "name": "stderr",
          "text": [
            "WARNING:absl:No GPU/TPU found, falling back to CPU. (Set TF_CPP_MIN_LOG_LEVEL=0 and rerun for more info.)\n"
          ]
        }
      ]
    },
    {
      "cell_type": "code",
      "source": [
        "# Create time grid for plotting\n",
        "time_grid = jnp.arange(0.0, 5.0, step=dt)\n",
        "\n",
        "# Plot the generated data\n",
        "plot.plot_pendulum(time_grid, states[:,0], obs)"
      ],
      "metadata": {
        "colab": {
          "base_uri": "https://localhost:8080/",
          "height": 285
        },
        "id": "QTTt7NKfwPwR",
        "outputId": "8a68fc1c-1fae-4bf7-de32-356dcd620667"
      },
      "execution_count": 6,
      "outputs": [
        {
          "output_type": "display_data",
          "data": {
            "text/plain": [
              "<Figure size 432x288 with 1 Axes>"
            ],
            "image/png": "[encoded data removed]"
          },
          "metadata": {
            "needs_background": "light"
          }
        }
      ]
    },
    {
      "cell_type": "markdown",
      "source": [
        "Next, we use a first-order EKF to estimate the angle of pendulum from the noisy measurements."
      ],
      "metadata": {
        "id": "UEL6BN2jUGrD"
      }
    },
    {
      "cell_type": "code",
      "source": [
        "# First order additive EKF (Algorithm 5.4)\n",
        "def ekf_firstorder_additive(m_0, P_0, f, h, Q, R, Y):\n",
        "    num_timesteps = len(Y)\n",
        "    # Compute Jacobians\n",
        "    F, H = jacfwd(f), jacfwd(h)\n",
        "\n",
        "    def _step(carry, t):\n",
        "        m_k, P_k = carry\n",
        "\n",
        "        # Prediction step\n",
        "        m_pred = f(m_k)\n",
        "        P_pred = F(m_k) @ P_k @ F(m_k).T + Q\n",
        "\n",
        "        # Update\n",
        "        v = Y[t] - h(m_pred)\n",
        "        S = jnp.atleast_2d(H(m_pred) @ P_pred @ H(m_pred).T + R)\n",
        "        K = P_pred @ H(m_pred).T @ jnp.linalg.inv(S)\n",
        "        m_post = m_pred + K @ v\n",
        "        P_post = P_pred - K @ S @ K.T\n",
        "        return (m_post, P_post), (m_post, P_post)\n",
        "    \n",
        "    carry = (m_0, P_0)\n",
        "    _, (ms, Ps) = lax.scan(\n",
        "        _step, carry, jnp.arange(num_timesteps)\n",
        "    )\n",
        "    return ms, Ps"
      ],
      "metadata": {
        "id": "uxwlrTUmw8vN"
      },
      "execution_count": 7,
      "outputs": []
    },
    {
      "cell_type": "code",
      "source": [
        "# Additional params for EKF\n",
        "m_0 = jnp.array([jnp.pi/2, 0])\n",
        "P_0 = jnp.eye(2)*0.01\n",
        "\n",
        "# Compute EKF estimates\n",
        "m_ekf, P_ekf = ekf_firstorder_additive(m_0, P_0, f, h, Q, R, obs)"
      ],
      "metadata": {
        "id": "DVvCHEeNVqKB"
      },
      "execution_count": 8,
      "outputs": []
    },
    {
      "cell_type": "code",
      "source": [
        "# Create time grid for plotting\n",
        "time_grid = jnp.arange(0.0, 5.0, step=dt)\n",
        "\n",
        "# Plot the generated data\n",
        "plot.plot_pendulum(time_grid, states[:,0], obs, x_est=m_ekf[:,0], est_type=\"EKF\")"
      ],
      "metadata": {
        "id": "bjxEH1KVRt_m",
        "outputId": "939abf3b-321b-4b68-fca1-bd696ec1127d",
        "colab": {
          "base_uri": "https://localhost:8080/",
          "height": 285
        }
      },
      "execution_count": 10,
      "outputs": [
        {
          "output_type": "display_data",
          "data": {
            "text/plain": [
              "<Figure size 432x288 with 1 Axes>"
            ],
            "image/png": "[encoded data removed]"
          },
          "metadata": {
            "needs_background": "light"
          }
        }
      ]
    },
    {
      "cell_type": "markdown",
      "source": [
        "Finally, we compute the RMSE of the EKF estimate."
      ],
      "metadata": {
        "id": "AYjZoKNQafAW"
      }
    },
    {
      "cell_type": "code",
      "source": [
        "# Helper function to compute RMSE\n",
        "def compute_rmse(y, y_est):\n",
        "    num_samples = y.shape[0]\n",
        "    return jnp.sqrt(jnp.sum((y-y_est)**2)/num_samples)\n",
        "\n",
        "# Compute RMSE of the EKF estimate\n",
        "rmse_ekf = compute_rmse(states[:,0,0], m_ekf[:,0,0])\n",
        "\n",
        "print(f'The RMSE of the EKF estimate of the angle is: {rmse_ekf:.2f},')\n",
        "print(f'The standard deviation of measurement noise is: {jnp.sqrt(r):.2f}')"
      ],
      "metadata": {
        "colab": {
          "base_uri": "https://localhost:8080/"
        },
        "id": "r4dPSTFjZjNo",
        "outputId": "8dbe521a-eafe-4332-b810-192d9f611200"
      },
      "execution_count": null,
      "outputs": [
        {
          "output_type": "stream",
          "name": "stdout",
          "text": [
            "The RMSE of the EKF estimate of the angle is: 0.14,\n",
            "The standard deviation of measurement noise is: 0.55\n"
          ]
        }
      ]
    },
    {
      "cell_type": "markdown",
      "source": [
        "## 5.4 Statistically Linearized Filter"
      ],
      "metadata": {
        "id": "FWiXKmArcskB"
      }
    },
    {
      "cell_type": "markdown",
      "source": [
        "We use Algorithm 5.10 along with the closed-form expectations (5.70)~(5.73) to compute statistically linearized filter estimate for the simulated pendulum data."
      ],
      "metadata": {
        "id": "9MkxAZkhDhnn"
      }
    },
    {
      "cell_type": "code",
      "source": [
        "# Additive SLF (Algorithm 5.10)\n",
        "def slf_additive(m_0, P_0, Ef, Efdx, Q, Eh, Ehdx, R, Y):\n",
        "    def _step(carry, t):\n",
        "        m_k, P_k = carry\n",
        "\n",
        "        # Prediction step\n",
        "        m_pred = Ef(m_k, P_k)\n",
        "        P_pred = Efdx(m_k, P_k) @ jnp.linalg.inv(P_k) @ Efdx(m_k, P_k).T + Q\n",
        "\n",
        "        # Update step\n",
        "        v = Y[t] - Eh(m_pred, P_pred)\n",
        "        S = jnp.atleast_2d(Ehdx(m_pred, P_pred) @ jnp.linalg.inv(P_pred) \\\n",
        "                           @ Ehdx(m_pred, P_pred).T + R)\n",
        "        K = Ehdx(m_pred, P_pred).T @ jnp.linalg.inv(S)\n",
        "        m_post = m_pred + K @ v\n",
        "        P_post = P_pred - K @ S @ K.T\n",
        "\n",
        "        return (m_post, P_post), (m_post, P_post)\n",
        "    \n",
        "    num_timesteps = len(Y)\n",
        "    carry = (m_0, P_0)\n",
        "    _, (ms, Ps) = lax.scan(\n",
        "        _step, carry, jnp.arange(num_timesteps)\n",
        "    )\n",
        "    return ms, Ps"
      ],
      "metadata": {
        "id": "Nh4eCYxocYko"
      },
      "execution_count": null,
      "outputs": []
    },
    {
      "cell_type": "code",
      "source": [
        "# Params for SLF\n",
        "Ef = lambda m, P: jnp.array([[m[0,0]+m[0,1]*dt, \n",
        "                              m[0,1]-g*jnp.sin(m[0,0])*jnp.exp(-P[0,0]/2)*dt]])\n",
        "Eh = lambda m, P: jnp.array([jnp.sin(m[0,0])*jnp.exp(-P[0,0]/2)])\n",
        "c11 = lambda m, P: P[0,0] + dt*P[0,1]\n",
        "c12 = lambda m, P: P[0,1] + dt*P[1,1]\n",
        "c21 = lambda m, P: P[0,1] - g*dt*jnp.cos(m[0,0])*P[0,0]*jnp.exp(-P[0,0]/2)\n",
        "c22 = lambda m, P: P[1,1] - g*dt*jnp.cos(m[0,0])*P[0,1]*jnp.exp(-P[0,0]/2)\n",
        "Efdx = lambda m, P: jnp.array([[c11(m,P), c12(m, P)],\n",
        "                               [c21(m,P), c22(m, P)]])\n",
        "Ehdx = lambda m, P: jnp.array([[jnp.cos(m[0,0])*P[0,0]*jnp.exp(-P[0,0]/2),\n",
        "                                jnp.cos(m[0,0])*P[0,1]*jnp.exp(-P[0,0]/2)]])\n",
        "\n",
        "# Compute SLF estimates\n",
        "m_slf, P_slf = slf_additive(m_0, P_0, Ef, Efdx, Q, Eh, Ehdx, r, obs)"
      ],
      "metadata": {
        "id": "HI7sgCONFcRK"
      },
      "execution_count": null,
      "outputs": []
    },
    {
      "cell_type": "code",
      "source": [
        "# Plot the generated data\n",
        "plt.figure()\n",
        "plt.plot(time_grid, states[:,0,0], color='darkgray', linewidth=4, label=\"True Angle\")\n",
        "plt.plot(time_grid, obs, 'ok', fillstyle='none', ms=1.5, label='Measurements')\n",
        "plt.plot(time_grid, m_slf[:,0,0], color='k', linewidth=1.5, label=\"SLF Estimate\")\n",
        "plt.xlabel('Time $t$'); plt.ylabel('Pendulum angle $x_{1,k}$')\n",
        "plt.xlim(0, 5); plt.ylim(-3, 5)\n",
        "plt.xticks(jnp.arange(0.5, 4.6, 0.5))\n",
        "plt.yticks(jnp.arange(-3, 5.1, 1))\n",
        "plt.gca().set_aspect(0.5)\n",
        "plt.legend(loc=1, borderpad=0.5, handlelength=4, fancybox=False, edgecolor='k');\n",
        "plt.show()"
      ],
      "metadata": {
        "colab": {
          "base_uri": "https://localhost:8080/",
          "height": 285
        },
        "id": "S7NOCzcwPtJN",
        "outputId": "73c9da6a-6165-4a07-981e-878a10f27972"
      },
      "execution_count": null,
      "outputs": [
        {
          "output_type": "display_data",
          "data": {
            "text/plain": [
              "<Figure size 432x288 with 1 Axes>"
            ],
            "image/png": "[encoded data removed]"
          },
          "metadata": {
            "needs_background": "light"
          }
        }
      ]
    },
    {
      "cell_type": "markdown",
      "source": [
        "Finally, we compute the RMSE of the SLF estimate."
      ],
      "metadata": {
        "id": "qGJ381mHQaPI"
      }
    },
    {
      "cell_type": "code",
      "source": [
        "# Compute RMSE of the EKF estimate\n",
        "rmse_slf = compute_rmse(states[:,0,0], m_slf[:,0,0])\n",
        "\n",
        "print(f'The RMSE of the SLF estimate of the angle is: {rmse_slf:.2f},')\n",
        "print(f'The standard deviation of measurement noise is: {jnp.sqrt(r):.2f}')"
      ],
      "metadata": {
        "colab": {
          "base_uri": "https://localhost:8080/"
        },
        "id": "eKAb4ryXP_7u",
        "outputId": "a2549ac2-c9cc-439f-d190-aa2573b845b3"
      },
      "execution_count": null,
      "outputs": [
        {
          "output_type": "stream",
          "name": "stdout",
          "text": [
            "The RMSE of the SLF estimate of the angle is: 0.14,\n",
            "The standard deviation of measurement noise is: 0.55\n"
          ]
        }
      ]
    },
    {
      "cell_type": "markdown",
      "source": [
        "## 5.6 Unscented Kalman Filter"
      ],
      "metadata": {
        "id": "ooVp6ceEUCb5"
      }
    },
    {
      "cell_type": "code",
      "source": [
        "# Additive UKF (Algorithm 5.14)\n",
        "def ukf_additive(m_0, P_0, f, h, Q, R, alpha, beta, kappa, Y):\n",
        "    def _step(carry, t):\n",
        "        m_k, P_k = carry\n",
        "\n",
        "        # Prediction step:\n",
        "        # 1. Form sigma points\n",
        "        sigmas_pred = compute_sigmas(m_k, P_k, n, lamb)\n",
        "        # 2. Propagate the sigma points\n",
        "        sigmas_pred = jax.vmap(f, 0, 0)(sigmas_pred)\n",
        "        # 3. Compute predicted mean and covariance\n",
        "        m_pred = jnp.tensordot(w_mean, sigmas_pred, axes=1)\n",
        "        outer = lambda x, y: jnp.atleast_2d(x).T @ jnp.atleast_2d(y)\n",
        "        outer = jax.vmap(outer, 0, 0)\n",
        "        P_pred = jnp.tensordot(w_cov, \n",
        "                               outer(sigmas_pred-m_pred, sigmas_pred-m_pred), \n",
        "                               axes=1) + Q\n",
        "\n",
        "        # Update step:\n",
        "        # 1. Form sigma points\n",
        "        sigmas_update = compute_sigmas(m_pred, P_pred, n, lamb)\n",
        "        # 2. Propagate the sigma points\n",
        "        sigmas_update_prop = jax.vmap(h, 0, 0)(sigmas_update)\n",
        "        # 3. Compute params\n",
        "        mu = jnp.tensordot(w_mean, sigmas_update_prop, axes=1)\n",
        "        S = jnp.tensordot(w_cov, \n",
        "                          outer(sigmas_update_prop-mu, sigmas_update_prop-mu), \n",
        "                          axes=1) + R\n",
        "        C = jnp.tensordot(w_cov, \n",
        "                          outer(sigmas_update-m_pred, sigmas_update_prop-mu), \n",
        "                          axes=1)\n",
        "\n",
        "        # 4. Compute posterior\n",
        "        K = C @ jnp.linalg.inv(S)\n",
        "        m_post = m_pred + K @ (Y[t] - mu)\n",
        "        P_post = P_pred - K @ S @ K.T\n",
        "        \n",
        "        return (m_post, P_post), (m_post, P_post)\n",
        "\n",
        "    def compute_sigmas(m, P, n, lamb):\n",
        "        disc = jnp.sqrt(n + lamb) * jnp.linalg.cholesky(P)\n",
        "        sigma_plus = jnp.array([m + disc[:,i] for i in range(n)])\n",
        "        sigma_minus = jnp.array([m - disc[:,i] for i in range(n)])\n",
        "        return jnp.concatenate((jnp.array([m]), sigma_plus, sigma_minus))\n",
        "\n",
        "    def compute_weights(n, alpha, beta, lamb):\n",
        "        factor = 1/(2*(n+lamb))\n",
        "        w_mean = jnp.concatenate((jnp.array([lamb/(n+lamb)]), \n",
        "                                  jnp.ones(2*n)*factor))\n",
        "        w_cov = jnp.concatenate((jnp.array([lamb/(n+lamb) + (1-alpha**2+beta)]),\n",
        "                                 jnp.ones(2*n)*factor))\n",
        "        return w_mean, w_cov\n",
        "\n",
        "    n = P_0.shape[0]\n",
        "    num_timesteps = len(Y)\n",
        "    lamb = alpha**2 * (n + kappa) - n\n",
        "    w_mean, w_cov = compute_weights(n, alpha, beta, lamb)\n",
        "    carry = (m_0, P_0)\n",
        "    _, (ms, Ps) = lax.scan(\n",
        "        _step, carry, jnp.arange(num_timesteps)\n",
        "    )\n",
        "    return ms, Ps"
      ],
      "metadata": {
        "id": "_ppEnhVDeBl-"
      },
      "execution_count": null,
      "outputs": []
    },
    {
      "cell_type": "code",
      "source": [
        "# Params for UKF\n",
        "alpha, beta, kappa = 1, 1, 2\n",
        "\n",
        "# Compute SLF estimates\n",
        "m_ukf, P_ukf = ukf_additive(m_0, P_0, f, h, Q, r, alpha, beta, kappa, obs)"
      ],
      "metadata": {
        "id": "hrI9tPAjPadv"
      },
      "execution_count": null,
      "outputs": []
    },
    {
      "cell_type": "code",
      "source": [
        "# Plot the generated data\n",
        "plt.figure()\n",
        "plt.plot(time_grid, states[:,0,0], color='darkgray', linewidth=4, label=\"True Angle\")\n",
        "plt.plot(time_grid, obs, 'ok', fillstyle='none', ms=1.5, label='Measurements')\n",
        "plt.plot(time_grid, m_ukf[:,0,0], color='k', linewidth=1.5, label=\"UKF Estimate\")\n",
        "plt.xlabel('Time $t$'); plt.ylabel('Pendulum angle $x_{1,k}$')\n",
        "plt.xlim(0, 5); plt.ylim(-3, 5)\n",
        "plt.xticks(jnp.arange(0.5, 4.6, 0.5))\n",
        "plt.yticks(jnp.arange(-3, 5.1, 1))\n",
        "plt.gca().set_aspect(0.5)\n",
        "plt.legend(loc=1, borderpad=0.5, handlelength=4, fancybox=False, edgecolor='k');\n",
        "plt.show()"
      ],
      "metadata": {
        "colab": {
          "base_uri": "https://localhost:8080/",
          "height": 285
        },
        "id": "gNkURzCVQAT1",
        "outputId": "40dcdb47-c380-467d-dfb6-c0f083a44abe"
      },
      "execution_count": null,
      "outputs": [
        {
          "output_type": "display_data",
          "data": {
            "text/plain": [
              "<Figure size 432x288 with 1 Axes>"
            ],
            "image/png": "[encoded data removed]"
          },
          "metadata": {
            "needs_background": "light"
          }
        }
      ]
    },
    {
      "cell_type": "markdown",
      "source": [
        "Finally, we compute the RMSE of the UKF estimate."
      ],
      "metadata": {
        "id": "x93INfnKRg6e"
      }
    },
    {
      "cell_type": "code",
      "source": [
        "# Compute RMSE of the UKF estimate\n",
        "rmse_ukf = compute_rmse(states[:,0,0], m_ukf[:,0,0])\n",
        "\n",
        "print(f'The RMSE of the UKF estimate of the angle is: {rmse_ukf:.2f},')\n",
        "print(f'The standard deviation of measurement noise is: {jnp.sqrt(r):.2f}')"
      ],
      "metadata": {
        "colab": {
          "base_uri": "https://localhost:8080/"
        },
        "id": "y1v0eRhXQemg",
        "outputId": "bcf25c93-34c8-4665-f696-b2666ca215ec"
      },
      "execution_count": null,
      "outputs": [
        {
          "output_type": "stream",
          "name": "stdout",
          "text": [
            "The RMSE of the UKF estimate of the angle is: 0.14,\n",
            "The standard deviation of measurement noise is: 0.55\n"
          ]
        }
      ]
    }
  ]
}