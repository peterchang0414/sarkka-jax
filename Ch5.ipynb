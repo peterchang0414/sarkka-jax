{
  "nbformat": 4,
  "nbformat_minor": 0,
  "metadata": {
    "colab": {
      "name": "Ch5.ipynb",
      "provenance": [],
      "include_colab_link": true
    },
    "kernelspec": {
      "name": "python3",
      "display_name": "Python 3"
    },
    "language_info": {
      "name": "python"
    }
  },
  "cells": [
    {
      "cell_type": "markdown",
      "metadata": {
        "id": "view-in-github",
        "colab_type": "text"
      },
      "source": [
        "<a href=\"https://colab.research.google.com/github/petergchang/sarkka-jax/blob/main/Ch5.ipynb\" target=\"_parent\"><img src=\"https://colab.research.google.com/assets/colab-badge.svg\" alt=\"Open In Colab\"/></a>"
      ]
    },
    {
      "cell_type": "markdown",
      "source": [
        "#5. Extended and Unscented Kalman Filtering\n",
        "\n",
        "This notebook replicates the figures of Chapter 5 of Särkkä's \"Bayesian Filtering and Smoothing\" using JAX.\n",
        "\n",
        "Simo Särkkä (2013), “Bayesian Filtering and Smoothing,” Cambridge University Press. Available: https://users.aalto.fi/~ssarkka/pub/cup_book_online_20131111.pdf\n",
        "\n",
        "This JAX translation is by Peter G. Chang ([@petergchang](https://github.com/petergchang))\n",
        "\n"
      ],
      "metadata": {
        "id": "AYrePRtV4RIK"
      }
    },
    {
      "cell_type": "markdown",
      "source": [
        "## 5.0 Imports"
      ],
      "metadata": {
        "id": "vLt4p8Tx4hWN"
      }
    },
    {
      "cell_type": "code",
      "execution_count": 1,
      "metadata": {
        "id": "U4xUpwZM3-z5"
      },
      "outputs": [],
      "source": [
        "%matplotlib inline\n",
        "\n",
        "import jax\n",
        "import jax.numpy as jnp\n",
        "import jax.random as jr\n",
        "from jax import lax\n",
        "import matplotlib.pyplot as plt"
      ]
    },
    {
      "cell_type": "markdown",
      "source": [
        "## 5.2 Extended Kalman Filter"
      ],
      "metadata": {
        "id": "33ISOI7QtWlP"
      }
    },
    {
      "cell_type": "markdown",
      "source": [
        "First, we simulate the pendulum data using the following transition model:\n",
        "\\begin{align*}\n",
        "  \\begin{pmatrix} x_{1,k} \\\\ x_{2,k} \\end{pmatrix} &= \n",
        "  \\begin{pmatrix} x_{1,k-1} + x_{2,k-1} \\Delta t \\\\\n",
        "    x_{2,k-1} - g \\sin(x_{1,k-1}) \\Delta t\n",
        "  \\end{pmatrix} + q_{k-1} \\\\\n",
        "  y_{k} &= \\sin(x_{1,k}) + r_k \\\\\n",
        "  y_{x_k} &= \\arcsin(y_k) = \\arcsin(\\sin(x_{1,k}) + r_k)\n",
        "\\end{align*}"
      ],
      "metadata": {
        "id": "BLuO9E_etVp-"
      }
    },
    {
      "cell_type": "code",
      "source": [
        "# Function to simulate pendulum\n",
        "def simulate_pendulum(key, m_0, f, Q, h, r, steps):\n",
        "    def _step(carry, rng):\n",
        "        state = carry\n",
        "        rng1, rng2 = jr.split(rng, 2)\n",
        "        next_state = f(state) + jr.multivariate_normal(rng1, jnp.zeros(M), Q)\n",
        "        obs = h(next_state) + jr.normal(rng2) * r\n",
        "        return next_state, (next_state, obs)\n",
        "\n",
        "    M = m_0.shape[-1]\n",
        "    state = m_0\n",
        "    rngs = jr.split(key, steps)\n",
        "    _, (states, observations) = lax.scan(\n",
        "        _step, state, rngs\n",
        "    )\n",
        "    return states, observations"
      ],
      "metadata": {
        "id": "GTcJutobtduz"
      },
      "execution_count": 24,
      "outputs": []
    },
    {
      "cell_type": "code",
      "source": [
        "# Params for pendulum simulation\n",
        "key = jr.PRNGKey(0)\n",
        "m_0 = jnp.array([jnp.pi/2, 0])\n",
        "dt = 0.0125\n",
        "q = 1\n",
        "g = 9.8\n",
        "Q = jnp.array([[q*dt**3/3, q*dt**2/2],\n",
        "               [q*dt**2/2,      q*dt]])\n",
        "r = 0.4\n",
        "f = lambda x: jnp.array([x[0] + x[1]*dt, x[1] - g*jnp.sin(x[0])*dt])\n",
        "h = lambda x: jnp.sin(x)\n",
        "\n",
        "# Simulate pendulum angle\n",
        "states, obs = simulate_pendulum(key, m_0, f, Q, h, r, 400)\n",
        "\n",
        "# # Apply arcsin to measured horizontal position to compute measured angle\n",
        "# obs_angle = jnp.arcsin(jnp.clip(obs[:,0], -1, 1)) "
      ],
      "metadata": {
        "id": "InuoMcUzuv-5"
      },
      "execution_count": 38,
      "outputs": []
    },
    {
      "cell_type": "code",
      "source": [
        "# Create time grid for plotting\n",
        "time_grid = jnp.arange(0.0, 5.0, step=dt)\n",
        "\n",
        "# Plot the generated data\n",
        "plt.figure()\n",
        "plt.plot(time_grid, states[:,0], color='darkgray', linewidth=4, label=\"True Angle\")\n",
        "plt.plot(time_grid, obs[:,0], 'ok', fillstyle='none', ms=1.5, label='Measurements')\n",
        "# plt.plot(m_kf[:,0], m_kf[:,1], color='k', linewidth=1.5, label=\"Filter Estimate\")\n",
        "plt.xlabel('Time $t$'); plt.ylabel('Pendulum angle $x_{1,k}$')\n",
        "plt.xlim(0, 5); plt.ylim(-3, 5)\n",
        "plt.yticks(jnp.arange(-3, 5.1, 1))\n",
        "plt.gca().set_aspect(0.5)\n",
        "plt.legend(loc=1, borderpad=0.5, handlelength=4, fancybox=False, edgecolor='k');\n",
        "plt.show()"
      ],
      "metadata": {
        "colab": {
          "base_uri": "https://localhost:8080/",
          "height": 285
        },
        "id": "L_7VyYwhwd43",
        "outputId": "86306f9a-48bb-4364-cd3c-8742b39f3fbd"
      },
      "execution_count": 41,
      "outputs": [
        {
          "output_type": "display_data",
          "data": {
            "text/plain": [
              "<Figure size 432x288 with 1 Axes>"
            ],
            "image/png": "[encoded data removed]"
          },
          "metadata": {
            "needs_background": "light"
          }
        }
      ]
    },
    {
      "cell_type": "code",
      "source": [
        ""
      ],
      "metadata": {
        "id": "uxwlrTUmw8vN"
      },
      "execution_count": null,
      "outputs": []
    }
  ]
}