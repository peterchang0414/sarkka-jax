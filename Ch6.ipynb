{
  "nbformat": 4,
  "nbformat_minor": 0,
  "metadata": {
    "colab": {
      "name": "Ch6.ipynb",
      "provenance": [],
      "include_colab_link": true
    },
    "kernelspec": {
      "name": "python3",
      "display_name": "Python 3"
    },
    "language_info": {
      "name": "python"
    }
  },
  "cells": [
    {
      "cell_type": "markdown",
      "metadata": {
        "id": "view-in-github",
        "colab_type": "text"
      },
      "source": [
        "<a href=\"https://colab.research.google.com/github/petergchang/sarkka-jax/blob/main/Ch6.ipynb\" target=\"_parent\"><img src=\"https://colab.research.google.com/assets/colab-badge.svg\" alt=\"Open In Colab\"/></a>"
      ]
    },
    {
      "cell_type": "markdown",
      "source": [
        "#6. General Gaussian Filtering\n",
        "\n",
        "This notebook replicates the figures of Chapter 6 of Särkkä's \"Bayesian Filtering and Smoothing\" using JAX.\n",
        "\n",
        "Simo Särkkä (2013), “Bayesian Filtering and Smoothing,” Cambridge University Press. Available: https://users.aalto.fi/~ssarkka/pub/cup_book_online_20131111.pdf\n",
        "\n",
        "This JAX translation is by Peter G. Chang ([@petergchang](https://github.com/petergchang))"
      ],
      "metadata": {
        "id": "ueSyyEiETdF5"
      }
    },
    {
      "cell_type": "markdown",
      "source": [
        "## 6.0 Imports and Pendulum Simulation"
      ],
      "metadata": {
        "id": "sn6mLrikJTth"
      }
    },
    {
      "cell_type": "code",
      "execution_count": 159,
      "metadata": {
        "id": "ZkbDSBTOSZOx"
      },
      "outputs": [],
      "source": [
        "%matplotlib inline\n",
        "\n",
        "import jax\n",
        "import jax.numpy as jnp\n",
        "import jax.random as jr\n",
        "from jax import lax\n",
        "import matplotlib.pyplot as plt"
      ]
    },
    {
      "cell_type": "code",
      "source": [
        "# Function to simulate pendulum\n",
        "def simulate_pendulum(key, m_0, f, Q, h, r, steps):\n",
        "    def _step(carry, rng):\n",
        "        state = carry\n",
        "        rng1, rng2 = jr.split(rng, 2)\n",
        "        next_state = f(state) + jr.multivariate_normal(rng1, jnp.zeros(M), Q)\n",
        "        obs = h(next_state) + jr.normal(rng2) * r\n",
        "        return next_state, (next_state, obs)\n",
        "\n",
        "    M = m_0.shape[-1]\n",
        "    state = m_0\n",
        "    rngs = jr.split(key, steps)\n",
        "    _, (states, observations) = lax.scan(\n",
        "        _step, state, rngs\n",
        "    )\n",
        "    return states, observations"
      ],
      "metadata": {
        "id": "EncNa7geJX4p"
      },
      "execution_count": 160,
      "outputs": []
    },
    {
      "cell_type": "code",
      "source": [
        "# Params for pendulum simulation\n",
        "key = jr.PRNGKey(0)\n",
        "m_0 = jnp.array([[jnp.pi/2, 0]])\n",
        "dt = 0.0125\n",
        "q = 1\n",
        "g = 9.8\n",
        "Q = jnp.array([[q*dt**3/3, q*dt**2/2],\n",
        "               [q*dt**2/2,      q*dt]])\n",
        "r = 0.3\n",
        "f = lambda x: jnp.array([[x[0,0] + x[0,1]*dt, x[0,1] - g*jnp.sin(x[0,0])*dt]])\n",
        "h = lambda x: jnp.array([jnp.sin(x[0,0])])\n",
        "\n",
        "# Simulate pendulum angle\n",
        "states, obs = simulate_pendulum(key, m_0, f, Q, h, r, 400)\n",
        "\n",
        "# # Apply arcsin to measured horizontal position to compute measured angle\n",
        "# obs_angle = jnp.arcsin(jnp.clip(obs[:,0], -1, 1)) "
      ],
      "metadata": {
        "id": "7DH2c55cJcC1"
      },
      "execution_count": 161,
      "outputs": []
    },
    {
      "cell_type": "code",
      "source": [
        "# Create time grid for plotting\n",
        "time_grid = jnp.arange(0.0, 5.0, step=dt)\n",
        "\n",
        "# Plot the generated data\n",
        "plt.figure()\n",
        "plt.plot(time_grid, states[:,0,0], color='darkgray', linewidth=4, label=\"True Angle\")\n",
        "plt.plot(time_grid, obs, 'ok', fillstyle='none', ms=1.5, label='Measurements')\n",
        "# plt.plot(m_kf[:,0], m_kf[:,1], color='k', linewidth=1.5, label=\"Filter Estimate\")\n",
        "plt.xlabel('Time $t$'); plt.ylabel('Pendulum angle $x_{1,k}$')\n",
        "plt.xlim(0, 5); plt.ylim(-3, 5)\n",
        "plt.xticks(jnp.arange(0.5, 4.6, 0.5))\n",
        "plt.yticks(jnp.arange(-3, 5.1, 1))\n",
        "plt.gca().set_aspect(0.5)\n",
        "plt.legend(loc=1, borderpad=0.5, handlelength=4, fancybox=False, edgecolor='k');\n",
        "plt.show()"
      ],
      "metadata": {
        "colab": {
          "base_uri": "https://localhost:8080/",
          "height": 285
        },
        "id": "9l62vpDMJdXY",
        "outputId": "3bc85180-6ba7-4a68-b9ea-37a120736dd5"
      },
      "execution_count": 162,
      "outputs": [
        {
          "output_type": "display_data",
          "data": {
            "text/plain": [
              "<Figure size 432x288 with 1 Axes>"
            ],
            "image/png": "[encoded data removed]"
          },
          "metadata": {
            "needs_background": "light"
          }
        }
      ]
    },
    {
      "cell_type": "markdown",
      "source": [
        "##6.4 Gauss–Hermite Kalman Filter"
      ],
      "metadata": {
        "id": "bC41Jq0uJzFS"
      }
    },
    {
      "cell_type": "code",
      "source": [
        "from numpy.polynomial.hermite import hermgauss\n",
        "from sklearn.utils.extmath import cartesian\n",
        "\n",
        "# Additive GHKF (Algorithm 6.7)\n",
        "def ghkf_additive(m_0, P_0, f, h, Q, R, p, Y):\n",
        "    def _step(carry, t):\n",
        "        m_k, P_k = carry\n",
        "\n",
        "        # Prediction step:\n",
        "        # 1. Form sigma points\n",
        "        sigmas_pred = compute_sigmas(m_k, P_k, sigmas)\n",
        "        # 2. Propagate the sigma points\n",
        "        sigmas_pred = jax.vmap(f, 0, 0)(sigmas_pred)\n",
        "        # 3. Compute predicted mean and covariance\n",
        "        outer = lambda x, y: jnp.atleast_2d(x).T @ jnp.atleast_2d(y)\n",
        "        outer = jax.vmap(outer, 0, 0)\n",
        "        m_pred = jnp.tensordot(weights, sigmas_pred, axes=1)\n",
        "        P_pred = jnp.tensordot(weights, \n",
        "                               outer(sigmas_pred-m_pred, sigmas_pred-m_pred), \n",
        "                               axes=1) + Q\n",
        "\n",
        "        # Update step:\n",
        "        # 1. Form sigma points\n",
        "        sigmas_update = compute_sigmas(m_pred, P_pred, sigmas)\n",
        "        # 2. Propagate the sigma points\n",
        "        sigmas_update_prop = jax.vmap(h, 0, 0)(sigmas_update)\n",
        "        # 3. Compute params\n",
        "        mu = jnp.tensordot(weights, sigmas_update_prop, axes=1)\n",
        "        S = jnp.tensordot(weights, \n",
        "                          outer(sigmas_update_prop-mu, sigmas_update_prop-mu), \n",
        "                          axes=1) + R\n",
        "        C = jnp.tensordot(weights, \n",
        "                          outer(sigmas_update-m_pred, sigmas_update_prop-mu), \n",
        "                          axes=1)\n",
        "\n",
        "        # 4. Compute posterior\n",
        "        K = C @ jnp.linalg.inv(S)\n",
        "        m_post = m_pred + K @ (Y[t] - mu)\n",
        "        P_post = P_pred - K @ S @ K.T\n",
        "        \n",
        "        return (m_post, P_post), (m_post, P_post)\n",
        "\n",
        "    # Helper functions\n",
        "    def compute_sigmas(m, P, sigmas):\n",
        "        # Slightly convoluted way in order to preserve desired dimensions\n",
        "        devs = jax.vmap(jnp.matmul, [None,0], 0)(jnp.linalg.cholesky(P), sigmas)\n",
        "        return jax.vmap(jnp.add, [None,0], 0)(m, devs)\n",
        "\n",
        "    # Compute sigmas and weights\n",
        "    n = P_0.shape[0]\n",
        "    num_timesteps = len(Y)\n",
        "    samples_1d, weights_1d = hermgauss(p)\n",
        "    weights_1d /= weights_1d.sum()\n",
        "    sigmas = cartesian(jnp.array([samples_1d] * n))\n",
        "    weights = jnp.prod(cartesian(jnp.array([weights_1d] * n)), axis=1)\n",
        "    carry = (m_0, P_0)\n",
        "    _, (ms, Ps) = lax.scan(\n",
        "        _step, carry, jnp.arange(num_timesteps)\n",
        "    )\n",
        "    return ms, Ps"
      ],
      "metadata": {
        "id": "vKH7nNA-KpLk"
      },
      "execution_count": 163,
      "outputs": []
    },
    {
      "cell_type": "code",
      "source": [
        "# Params for GHKF\n",
        "m_0 = jnp.array([[jnp.pi/2, 0]])\n",
        "P_0 = jnp.eye(2)*0.01\n",
        "f = lambda x: jnp.array([[x[0,0] + x[0,1]*dt, x[0,1] - g*jnp.sin(x[0,0])*dt]])\n",
        "h = lambda x: jnp.array([jnp.sin(x[0,0])])\n",
        "Q = jnp.array([[q*dt**3/3, q*dt**2/2],\n",
        "               [q*dt**2/2,      q*dt]])\n",
        "r = 0.01\n",
        "p = 4\n",
        "\n",
        "# Compute GHKF estimates\n",
        "m_ghkf, P_ghkf = ghkf_additive(m_0, P_0, f, h, Q, r, p, obs)"
      ],
      "metadata": {
        "id": "FrQCMM-QLM20"
      },
      "execution_count": 206,
      "outputs": []
    },
    {
      "cell_type": "code",
      "source": [
        "# Plot the generated data (Replicates Figure 6.2)\n",
        "plt.figure()\n",
        "plt.plot(time_grid, states[:,0,0], color='darkgray', linewidth=4, label=\"True Angle\")\n",
        "plt.plot(time_grid, obs, 'ok', fillstyle='none', ms=1.5, label='Measurements')\n",
        "plt.plot(time_grid, m_ghkf[:,0,0], color='k', linewidth=1.5, label=\"GHKF Estimate\")\n",
        "plt.xlabel('Time $t$'); plt.ylabel('Pendulum angle $x_{1,k}$')\n",
        "plt.xlim(0, 5); plt.ylim(-3, 5)\n",
        "plt.xticks(jnp.arange(0.5, 4.6, 0.5))\n",
        "plt.yticks(jnp.arange(-3, 5.1, 1))\n",
        "plt.gca().set_aspect(0.5)\n",
        "plt.legend(loc=1, borderpad=0.5, handlelength=4, fancybox=False, edgecolor='k');\n",
        "plt.show()"
      ],
      "metadata": {
        "colab": {
          "base_uri": "https://localhost:8080/",
          "height": 285
        },
        "id": "b4MNi-ajLp4-",
        "outputId": "42682587-10ac-4186-fcef-efcf9b027a30"
      },
      "execution_count": 207,
      "outputs": [
        {
          "output_type": "display_data",
          "data": {
            "text/plain": [
              "<Figure size 432x288 with 1 Axes>"
            ],
            "image/png": "[encoded data removed]"
          },
          "metadata": {
            "needs_background": "light"
          }
        }
      ]
    },
    {
      "cell_type": "code",
      "source": [
        "# Helper function to compute RMSE\n",
        "def compute_rmse(y, y_est):\n",
        "    num_samples = y.shape[0]\n",
        "    return jnp.sqrt(jnp.sum((y-y_est)**2)/num_samples)\n",
        "\n",
        "# Compute RMSE of the EKF estimate\n",
        "rmse_ghkf = compute_rmse(states[:,0,0], m_ghkf[:,0,0])\n",
        "\n",
        "print(f'The RMSE of the EKF estimate of the angle is: {rmse_ghkf:.5f},')\n",
        "print(f'The standard deviation of measurement noise is: {jnp.sqrt(r):.2f}')"
      ],
      "metadata": {
        "colab": {
          "base_uri": "https://localhost:8080/"
        },
        "id": "SvJH2HPdLxzE",
        "outputId": "4271f5cd-f4a0-48cd-a36c-0a0c28760f58"
      },
      "execution_count": 196,
      "outputs": [
        {
          "output_type": "stream",
          "name": "stdout",
          "text": [
            "The RMSE of the EKF estimate of the angle is: 0.25093,\n",
            "The standard deviation of measurement noise is: 0.08\n"
          ]
        }
      ]
    },
    {
      "cell_type": "code",
      "source": [
        ""
      ],
      "metadata": {
        "id": "mJdlu-2QY3W2"
      },
      "execution_count": null,
      "outputs": []
    }
  ]
}