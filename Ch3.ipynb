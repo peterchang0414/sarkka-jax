{
  "nbformat": 4,
  "nbformat_minor": 0,
  "metadata": {
    "colab": {
      "name": "Ch3.ipynb",
      "provenance": [],
      "include_colab_link": true
    },
    "kernelspec": {
      "name": "python3",
      "display_name": "Python 3"
    },
    "language_info": {
      "name": "python"
    }
  },
  "cells": [
    {
      "cell_type": "markdown",
      "metadata": {
        "id": "view-in-github",
        "colab_type": "text"
      },
      "source": [
        "<a href=\"https://colab.research.google.com/github/petergchang/sarkka-jax/blob/main/Ch3.ipynb\" target=\"_parent\"><img src=\"https://colab.research.google.com/assets/colab-badge.svg\" alt=\"Open In Colab\"/></a>"
      ]
    },
    {
      "cell_type": "markdown",
      "source": [
        "# 3. Batch and Recursive Bayesian Estimation"
      ],
      "metadata": {
        "id": "dVtZw-M7G-nB"
      }
    },
    {
      "cell_type": "markdown",
      "source": [
        "## 3.0 Imports"
      ],
      "metadata": {
        "id": "2z0N1kYPHCTH"
      }
    },
    {
      "cell_type": "code",
      "execution_count": 119,
      "metadata": {
        "id": "qYNWea0jF6gC"
      },
      "outputs": [],
      "source": [
        "%matplotlib inline\n",
        "\n",
        "import jax\n",
        "import jax.numpy as jnp\n",
        "import jax.random as jr\n",
        "from jax import lax\n",
        "import matplotlib.pyplot as plt"
      ]
    },
    {
      "cell_type": "markdown",
      "source": [
        "## 3.1 Batch Linear Regression"
      ],
      "metadata": {
        "id": "jLM3lYzKG7U4"
      }
    },
    {
      "cell_type": "markdown",
      "source": [
        "First, we generate some data that approximately replicates Figure 3.1."
      ],
      "metadata": {
        "id": "mwdXHJ_AHJrY"
      }
    },
    {
      "cell_type": "code",
      "source": [
        "# Generate grid\n",
        "X = jnp.linspace(0.0, 1.0, 100)\n",
        "\n",
        "# Define linear regression model\n",
        "def lr_model(key, x, theta, var):\n",
        "    epsilon = jr.normal(key)*var\n",
        "    return theta[1] * x + theta[0] + epsilon\n",
        "lr_model_vmap = jax.vmap(lr_model, in_axes=(0, 0, None, None), out_axes=0)\n",
        "\n",
        "# True parameter values\n",
        "theta = jnp.array([1, 0.5])\n",
        "\n",
        "# True signal\n",
        "Y_tr = theta[1] * X + theta[0]\n",
        "\n",
        "# Generate dataset (var = 0.1)\n",
        "var = 0.1\n",
        "keys = jr.split(jr.PRNGKey(42), X.shape[0])\n",
        "Y = lr_model_vmap(keys, X, theta, var)"
      ],
      "metadata": {
        "id": "u8CBOfQ2G4GO"
      },
      "execution_count": 101,
      "outputs": []
    },
    {
      "cell_type": "code",
      "source": [
        "# Plot the generated data\n",
        "plt.figure()\n",
        "plt.plot(X, Y, 'k.', label='Measurement')\n",
        "plt.plot(X, Y_tr, color='silver', linewidth=7, label=\"True Signal\")\n",
        "plt.xlabel('$t$'); plt.ylabel('$y$')\n",
        "plt.xlim(0, 1); plt.ylim(0.5, 2)\n",
        "plt.yticks(jnp.arange(0.5, 2.1, 0.5))\n",
        "plt.gca().set_aspect(0.5)\n",
        "plt.legend(loc=1, borderpad=0.8, handlelength=4, fancybox=False, edgecolor='k');\n",
        "plt.show()"
      ],
      "metadata": {
        "id": "_9GJxEqwJSXi",
        "outputId": "a2510851-4249-459e-bc2a-097f6d1fb633",
        "colab": {
          "base_uri": "https://localhost:8080/",
          "height": 285
        }
      },
      "execution_count": 102,
      "outputs": [
        {
          "output_type": "display_data",
          "data": {
            "text/plain": [
              "<Figure size 432x288 with 1 Axes>"
            ],
            "image/png": "[encoded data removed]"
          },
          "metadata": {
            "needs_background": "light"
          }
        }
      ]
    },
    {
      "cell_type": "markdown",
      "source": [
        "Now we apply the batch solution, given by equation (3.4):\n",
        "\\begin{align*}\n",
        "    \\textbf{m}_T &= \\left[ \\textbf{P}_0^{-1} + \\frac{1}{\\sigma^2} \\textbf{H}^T \\textbf{H} \\right]^{-1} \\left[ \\frac{1}{\\sigma^2} \\textbf{H}^T \\textbf{y} + \\textbf{P}_0^{-1} \\textbf{m}_0 \\right] \\\\\n",
        "\\textbf{P}_T &= \\left[ \\textbf{P}_0^{-1} + \\frac{1}{\\sigma^2} \\textbf{H}^T \\textbf{H} \\right]^{-1}\n",
        "\\end{align*}\n",
        "where our we arbitrarily set our prior distribution to:\n",
        "\\begin{align*}\n",
        "    p(\\theta) &= \\mathcal{N}(\\theta \\mid \\textbf{m}_0, \\textbf{P}_0) = \\mathcal{N}(\\theta \\mid (0, 0)^T, \\mathcal{I})\n",
        "\\end{align*}"
      ],
      "metadata": {
        "id": "txHdBvukRmca"
      }
    },
    {
      "cell_type": "code",
      "source": [
        "# Parameter update model\n",
        "def update_params(m_prior, P_prior, X, Y, meas_var):\n",
        "    H = jnp.vstack(([1, x] for x in X))\n",
        "    P_post = jnp.linalg.inv(jnp.linalg.inv(P_0) + H.T @ H / meas_var)\n",
        "    m_post = P_post @ (H.T @ Y / meas_var + jnp.linalg.inv(P_0) @ m_0)\n",
        "    return m_post, P_post "
      ],
      "metadata": {
        "id": "IeqkKyXXgFn4"
      },
      "execution_count": 113,
      "outputs": []
    },
    {
      "cell_type": "code",
      "source": [
        "# Prior parameters\n",
        "m_0 = jnp.array([0,0], dtype=jnp.float32)\n",
        "P_0 = jnp.eye(2)\n",
        "\n",
        "# Posterior parameters\n",
        "m_T, P_T = update_params(m_0, P_0, X, Y, var)\n",
        "\n",
        "print('True theta value = ', theta)\n",
        "print('Posterior theta mean = ', m_T)"
      ],
      "metadata": {
        "id": "uqwBXd-PLfCX",
        "outputId": "28108cd6-4f2d-4d4f-d7c1-035326d3b2e4",
        "colab": {
          "base_uri": "https://localhost:8080/"
        }
      },
      "execution_count": 128,
      "outputs": [
        {
          "output_type": "stream",
          "name": "stdout",
          "text": [
            "True theta value =  [1.  0.5]\n",
            "Posterior theta mean =  [0.979979   0.53430796]\n"
          ]
        }
      ]
    },
    {
      "cell_type": "code",
      "source": [
        "# Posterior estimation\n",
        "Y_post = m_T[1] * X + m_T[0]\n",
        "\n",
        "# Plot the generated data\n",
        "plt.figure()\n",
        "plt.plot(X, Y, 'k.', label='Measurement')\n",
        "plt.plot(X, Y_tr, color='silver', linewidth=7, label=\"True Signal\")\n",
        "plt.plot(X, Y_post, color='k', linewidth=3, label=\"Estimate\")\n",
        "plt.xlabel('$t$'); plt.ylabel('$y$')\n",
        "plt.xlim(0, 1); plt.ylim(0.5, 2)\n",
        "plt.yticks(jnp.arange(0.5, 2.1, 0.5))\n",
        "plt.gca().set_aspect(0.5)\n",
        "plt.legend(loc=1, borderpad=0.8, handlelength=4, fancybox=False, edgecolor='k');\n",
        "plt.show()"
      ],
      "metadata": {
        "id": "7K1A-9JuTjsT",
        "outputId": "d7696e2b-ed4b-4ec0-cc66-92ab5f48e475",
        "colab": {
          "base_uri": "https://localhost:8080/",
          "height": 285
        }
      },
      "execution_count": 129,
      "outputs": [
        {
          "output_type": "display_data",
          "data": {
            "text/plain": [
              "<Figure size 432x288 with 1 Axes>"
            ],
            "image/png": "[encoded data removed]"
          },
          "metadata": {
            "needs_background": "light"
          }
        }
      ]
    },
    {
      "cell_type": "markdown",
      "source": [
        "## 3.2 Recursive Linear Regression"
      ],
      "metadata": {
        "id": "MqsZ7mmkVxzy"
      }
    },
    {
      "cell_type": "markdown",
      "source": [
        "We use equation (3.7) to replicate Figures 3.3 and 3.4."
      ],
      "metadata": {
        "id": "UbnlDGs7pRnK"
      }
    },
    {
      "cell_type": "code",
      "source": [
        "def recursive_lin_reg(m_0, P_0, obs_var, X, Y):\n",
        "    def _step(carry, t):\n",
        "        m_k, P_k = carry\n",
        "        H_k = jnp.array([[1, X[t]]])\n",
        "\n",
        "        # Compute params after single update\n",
        "        P_post = jnp.linalg.inv(jnp.linalg.inv(P_k) + H_k.T @ H_k / obs_var)\n",
        "        m_post = P_post @ (H_k * Y[t] / obs_var + \n",
        "                           jnp.linalg.inv(P_k) @ m_k).reshape(2,)\n",
        "\n",
        "        return (m_post, P_post), (m_post, P_post)\n",
        "\n",
        "    num_timesteps = len(Y)\n",
        "    carry = (m_0, P_0)\n",
        "    _, (ms, Ps) = lax.scan(\n",
        "        _step, carry, jnp.arange(num_timesteps)\n",
        "    )\n",
        "    return ms, Ps\n",
        "\n",
        "# Run recursive linear regression\n",
        "ms, Ps = recursive_lin_reg(m_0, P_0, var, X, Y)"
      ],
      "metadata": {
        "id": "B2bBB--KVkwO"
      },
      "execution_count": 221,
      "outputs": []
    },
    {
      "cell_type": "markdown",
      "source": [
        "First, we replicate Figure 3.3."
      ],
      "metadata": {
        "id": "XN5_C3IVp3jC"
      }
    },
    {
      "cell_type": "code",
      "source": [
        "# Batch mean result\n",
        "theta1_bmean = jnp.ones(X.shape) * m_T[0]\n",
        "theta2_bmean = jnp.ones(X.shape) * m_T[1]\n",
        "\n",
        "# Recursive mean results\n",
        "theta1_rmean = ms[:,0]\n",
        "theta2_rmean = ms[:,1]"
      ],
      "metadata": {
        "id": "UEdB93TVnFBV"
      },
      "execution_count": 223,
      "outputs": []
    },
    {
      "cell_type": "code",
      "source": [
        "# Plot the generated data\n",
        "plt.figure()\n",
        "plt.plot(X, theta1_rmean, 'k', linewidth=3, label=r\"Recursive $E[\\theta_1]$\")\n",
        "plt.plot(X, theta1_bmean, 'k--', linewidth=3, label=r\"Batch $E[\\theta_1]$\")\n",
        "plt.plot(X, theta2_rmean, color='gray', linewidth=3, label=r\"Recursive $E[\\theta_2]$\")\n",
        "plt.plot(X, theta2_bmean, '--', color='gray', linewidth=3, label=r\"Batch $E[\\theta_2]$\")\n",
        "plt.xlabel('$t$'); plt.ylabel('$y$')\n",
        "plt.xlim(0, 1); plt.ylim(-0.4, 1.2)\n",
        "plt.yticks(jnp.arange(-0.4, 1.3, 0.2))\n",
        "plt.gca().set_aspect(0.5)\n",
        "plt.legend(loc=4, borderpad=0.8, handlelength=4, fancybox=False, edgecolor='k');\n",
        "plt.show()"
      ],
      "metadata": {
        "colab": {
          "base_uri": "https://localhost:8080/",
          "height": 285
        },
        "id": "i8wHODpHkc1N",
        "outputId": "f1f6ad70-bfca-4b90-a7ab-14ed89a5b666"
      },
      "execution_count": 224,
      "outputs": [
        {
          "output_type": "display_data",
          "data": {
            "text/plain": [
              "<Figure size 432x288 with 1 Axes>"
            ],
            "image/png": "[encoded data removed]"
          },
          "metadata": {
            "needs_background": "light"
          }
        }
      ]
    },
    {
      "cell_type": "markdown",
      "source": [
        "Next, we replicate Figure 3.4."
      ],
      "metadata": {
        "id": "m5n_fZfpp6Wq"
      }
    },
    {
      "cell_type": "code",
      "source": [
        "Ps"
      ],
      "metadata": {
        "id": "TOHiRPLNs-MW",
        "outputId": "d15f5933-a219-495a-de97-8f7e09d3af3b",
        "colab": {
          "base_uri": "https://localhost:8080/"
        }
      },
      "execution_count": 253,
      "outputs": [
        {
          "output_type": "execute_result",
          "data": {
            "text/plain": [
              "DeviceArray([[[ 0.09090909,  0.        ],\n",
              "              [ 0.        ,  1.        ]],\n",
              "\n",
              "             [[ 0.04764218, -0.00480744],\n",
              "              [-0.00480744,  0.9994659 ]],\n",
              "\n",
              "             [[ 0.03235341, -0.0097543 ],\n",
              "              [-0.0097543 ,  0.99786526]],\n",
              "\n",
              "             [[ 0.02460759, -0.01470366],\n",
              "              [-0.01470366,  0.9947029 ]],\n",
              "\n",
              "             [[ 0.019996  , -0.0195981 ],\n",
              "              [-0.0195981 ,  0.9895083 ]],\n",
              "\n",
              "             [[ 0.0169992 , -0.02438781],\n",
              "              [-0.02438781,  0.98185307]],\n",
              "\n",
              "             [[ 0.01495154, -0.02902085],\n",
              "              [-0.02902088,  0.97137016]],\n",
              "\n",
              "             [[ 0.0135134 , -0.03344268],\n",
              "              [-0.03344268,  0.9577745 ]],\n",
              "\n",
              "             [[ 0.01249141, -0.03759761],\n",
              "              [-0.03759767,  0.9408817 ]],\n",
              "\n",
              "             [[ 0.01176562, -0.04143211],\n",
              "              [-0.04143218,  0.92062306]],\n",
              "\n",
              "             [[ 0.01125613, -0.04489746],\n",
              "              [-0.04489753,  0.8970529 ]],\n",
              "\n",
              "             [[ 0.0109065 , -0.04795302],\n",
              "              [-0.04795309,  0.8703487 ]],\n",
              "\n",
              "             [[ 0.01067496, -0.05056865],\n",
              "              [-0.0505687 ,  0.8408019 ]],\n",
              "\n",
              "             [[ 0.01052948, -0.05272635],\n",
              "              [-0.0527264 ,  0.8087998 ]],\n",
              "\n",
              "             [[ 0.01044499, -0.05442113],\n",
              "              [-0.05442118,  0.77480215]],\n",
              "\n",
              "             [[ 0.0104017 , -0.05566062],\n",
              "              [-0.05566066,  0.73931277]],\n",
              "\n",
              "             [[ 0.01038401, -0.05646385],\n",
              "              [-0.0564639 ,  0.70285106]],\n",
              "\n",
              "             [[ 0.01037977, -0.0568595 ],\n",
              "              [-0.05685955,  0.6659257 ]],\n",
              "\n",
              "             [[ 0.01037975, -0.05688345],\n",
              "              [-0.0568835 ,  0.62901175]],\n",
              "\n",
              "             [[ 0.01037717, -0.05657643],\n",
              "              [-0.05657648,  0.5925344 ]],\n",
              "\n",
              "             [[ 0.01036725, -0.05598168],\n",
              "              [-0.05598171,  0.55685806]],\n",
              "\n",
              "             [[ 0.0103469 , -0.05514275],\n",
              "              [-0.05514279,  0.52228093]],\n",
              "\n",
              "             [[ 0.01031432, -0.05410201],\n",
              "              [-0.05410205,  0.48903546]],\n",
              "\n",
              "             [[ 0.01026875, -0.05289929],\n",
              "              [-0.05289931,  0.45729154]],\n",
              "\n",
              "             [[ 0.01021018, -0.05157094],\n",
              "              [-0.05157096,  0.42716226]],\n",
              "\n",
              "             [[ 0.01013917, -0.05014951],\n",
              "              [-0.05014953,  0.39871183]],\n",
              "\n",
              "             [[ 0.0100566 , -0.0486634 ],\n",
              "              [-0.04866341,  0.37196308]],\n",
              "\n",
              "             [[ 0.00996362, -0.047137  ],\n",
              "              [-0.047137  ,  0.34690586]],\n",
              "\n",
              "             [[ 0.00986146, -0.04559086],\n",
              "              [-0.04559087,  0.32350427]],\n",
              "\n",
              "             [[ 0.00975143, -0.04404202],\n",
              "              [-0.04404203,  0.3017031 ]],\n",
              "\n",
              "             [[ 0.00963477, -0.04250429],\n",
              "              [-0.0425043 ,  0.28143328]],\n",
              "\n",
              "             [[ 0.0095127 , -0.04098869],\n",
              "              [-0.04098871,  0.2626169 ]],\n",
              "\n",
              "             [[ 0.00938632, -0.03950381],\n",
              "              [-0.03950382,  0.24517053]],\n",
              "\n",
              "             [[ 0.00925665, -0.03805619],\n",
              "              [-0.03805621,  0.22900878]],\n",
              "\n",
              "             [[ 0.00912463, -0.03665066],\n",
              "              [-0.03665068,  0.21404608]],\n",
              "\n",
              "             [[ 0.00899104, -0.03529057],\n",
              "              [-0.03529059,  0.20019841]],\n",
              "\n",
              "             [[ 0.00885661, -0.03397811],\n",
              "              [-0.03397813,  0.18738471]],\n",
              "\n",
              "             [[ 0.00872195, -0.0327145 ],\n",
              "              [-0.03271452,  0.17552756]],\n",
              "\n",
              "             [[ 0.00858759, -0.03150025],\n",
              "              [-0.03150027,  0.16455375]],\n",
              "\n",
              "             [[ 0.00845398, -0.03033516],\n",
              "              [-0.03033518,  0.15439433]],\n",
              "\n",
              "             [[ 0.00832149, -0.02921866],\n",
              "              [-0.02921868,  0.14498514]],\n",
              "\n",
              "             [[ 0.00819045, -0.02814976],\n",
              "              [-0.02814978,  0.13626644]],\n",
              "\n",
              "             [[ 0.0080611 , -0.02712725],\n",
              "              [-0.02712726,  0.128183  ]],\n",
              "\n",
              "             [[ 0.00793367, -0.02614968],\n",
              "              [-0.02614969,  0.12068381]],\n",
              "\n",
              "             [[ 0.00780832, -0.02521549],\n",
              "              [-0.0252155 ,  0.11372188]],\n",
              "\n",
              "             [[ 0.00768518, -0.02432305],\n",
              "              [-0.02432306,  0.10725407]],\n",
              "\n",
              "             [[ 0.00756434, -0.02347064],\n",
              "              [-0.02347065,  0.10124073]],\n",
              "\n",
              "             [[ 0.00744589, -0.02265655],\n",
              "              [-0.02265655,  0.09564555]],\n",
              "\n",
              "             [[ 0.00732988, -0.02187907],\n",
              "              [-0.02187908,  0.09043533]],\n",
              "\n",
              "             [[ 0.00721632, -0.02113651],\n",
              "              [-0.02113651,  0.08557954]],\n",
              "\n",
              "             [[ 0.00710524, -0.02042722],\n",
              "              [-0.02042723,  0.08105038]],\n",
              "\n",
              "             [[ 0.00699665, -0.01974961],\n",
              "              [-0.01974962,  0.0768224 ]],\n",
              "\n",
              "             [[ 0.00689051, -0.01910211],\n",
              "              [-0.01910211,  0.07287217]],\n",
              "\n",
              "             [[ 0.00678682, -0.01848325],\n",
              "              [-0.01848326,  0.06917849]],\n",
              "\n",
              "             [[ 0.00668556, -0.01789159],\n",
              "              [-0.0178916 ,  0.06572177]],\n",
              "\n",
              "             [[ 0.00658667, -0.01732576],\n",
              "              [-0.01732577,  0.0624841 ]],\n",
              "\n",
              "             [[ 0.00649013, -0.01678446],\n",
              "              [-0.01678448,  0.05944918]],\n",
              "\n",
              "             [[ 0.00639588, -0.01626644],\n",
              "              [-0.01626646,  0.0566019 ]],\n",
              "\n",
              "             [[ 0.00630388, -0.01577052],\n",
              "              [-0.01577053,  0.05392854]],\n",
              "\n",
              "             [[ 0.00621409, -0.01529558],\n",
              "              [-0.0152956 ,  0.05141649]],\n",
              "\n",
              "             [[ 0.00612645, -0.01484057],\n",
              "              [-0.01484059,  0.04905418]],\n",
              "\n",
              "             [[ 0.00604091, -0.01440448],\n",
              "              [-0.01440449,  0.04683094]],\n",
              "\n",
              "             [[ 0.00595742, -0.01398635],\n",
              "              [-0.01398637,  0.04473699]],\n",
              "\n",
              "             [[ 0.00587592, -0.0135853 ],\n",
              "              [-0.01358531,  0.04276334]],\n",
              "\n",
              "             [[ 0.00579636, -0.01320043],\n",
              "              [-0.01320044,  0.04090166]],\n",
              "\n",
              "             [[ 0.00571869, -0.012831  ],\n",
              "              [-0.01283101,  0.0391444 ]],\n",
              "\n",
              "             [[ 0.00564285, -0.0124762 ],\n",
              "              [-0.01247621,  0.03748445]],\n",
              "\n",
              "             [[ 0.0055688 , -0.01213533],\n",
              "              [-0.01213534,  0.03591534]],\n",
              "\n",
              "             [[ 0.00549649, -0.01180772],\n",
              "              [-0.01180772,  0.03443111]],\n",
              "\n",
              "             [[ 0.00542586, -0.0114927 ],\n",
              "              [-0.01149271,  0.03302617]],\n",
              "\n",
              "             [[ 0.00535686, -0.0111897 ],\n",
              "              [-0.0111897 ,  0.03169543]],\n",
              "\n",
              "             [[ 0.00528946, -0.01089812],\n",
              "              [-0.01089813,  0.03043415]],\n",
              "\n",
              "             [[ 0.0052236 , -0.01061743],\n",
              "              [-0.01061744,  0.02923793]],\n",
              "\n",
              "             [[ 0.00515923, -0.01034712],\n",
              "              [-0.01034713,  0.02810272]],\n",
              "\n",
              "             [[ 0.00509632, -0.0100867 ],\n",
              "              [-0.01008671,  0.02702471]],\n",
              "\n",
              "             [[ 0.00503482, -0.00983571],\n",
              "              [-0.00983572,  0.02600043]],\n",
              "\n",
              "             [[ 0.00497468, -0.00959371],\n",
              "              [-0.00959372,  0.02502661]],\n",
              "\n",
              "             [[ 0.00491588, -0.00936032],\n",
              "              [-0.00936032,  0.02410024]],\n",
              "\n",
              "             [[ 0.00485836, -0.00913512],\n",
              "              [-0.00913513,  0.0232185 ]],\n",
              "\n",
              "             [[ 0.0048021 , -0.00891776],\n",
              "              [-0.00891777,  0.02237878]],\n",
              "\n",
              "             [[ 0.00474705, -0.00870789],\n",
              "              [-0.0087079 ,  0.02157864]],\n",
              "\n",
              "             [[ 0.00469318, -0.00850518],\n",
              "              [-0.00850519,  0.02081579]],\n",
              "\n",
              "             [[ 0.00464046, -0.00830932],\n",
              "              [-0.00830932,  0.02008813]],\n",
              "\n",
              "             [[ 0.00458886, -0.00812   ],\n",
              "              [-0.00812001,  0.01939367]],\n",
              "\n",
              "             [[ 0.00453833, -0.00793696],\n",
              "              [-0.00793697,  0.01873055]],\n",
              "\n",
              "             [[ 0.00448885, -0.00775992],\n",
              "              [-0.00775992,  0.01809706]],\n",
              "\n",
              "             [[ 0.00444039, -0.00758862],\n",
              "              [-0.00758862,  0.01749155]],\n",
              "\n",
              "             [[ 0.00439292, -0.00742283],\n",
              "              [-0.00742284,  0.01691254]],\n",
              "\n",
              "             [[ 0.00434642, -0.00726233],\n",
              "              [-0.00726233,  0.0163586 ]],\n",
              "\n",
              "             [[ 0.00430085, -0.00710689],\n",
              "              [-0.00710689,  0.01582839]],\n",
              "\n",
              "             [[ 0.00425618, -0.0069563 ],\n",
              "              [-0.00695631,  0.01532068]],\n",
              "\n",
              "             [[ 0.00421241, -0.00681038],\n",
              "              [-0.00681039,  0.0148343 ]],\n",
              "\n",
              "             [[ 0.00416949, -0.00666893],\n",
              "              [-0.00666894,  0.01436814]],\n",
              "\n",
              "             [[ 0.0041274 , -0.00653178],\n",
              "              [-0.00653179,  0.01392117]],\n",
              "\n",
              "             [[ 0.00408613, -0.00639876],\n",
              "              [-0.00639877,  0.01349243]],\n",
              "\n",
              "             [[ 0.00404565, -0.00626971],\n",
              "              [-0.00626971,  0.013081  ]],\n",
              "\n",
              "             [[ 0.00400594, -0.00614447],\n",
              "              [-0.00614447,  0.01268602]],\n",
              "\n",
              "             [[ 0.00396697, -0.00602289],\n",
              "              [-0.0060229 ,  0.0123067 ]],\n",
              "\n",
              "             [[ 0.00392874, -0.00590485],\n",
              "              [-0.00590485,  0.01194225]],\n",
              "\n",
              "             [[ 0.00389121, -0.0057902 ],\n",
              "              [-0.0057902 ,  0.01159197]]], dtype=float32)"
            ]
          },
          "metadata": {},
          "execution_count": 253
        }
      ]
    },
    {
      "cell_type": "code",
      "source": [
        "# Batch var result\n",
        "theta1_bvar = jnp.ones(X.shape) * P_T[0,0]\n",
        "theta2_bvar = jnp.ones(X.shape) * P_T[1,1]\n",
        "\n",
        "# Recursive var results\n",
        "theta1_rvar = Ps[:,0,0]\n",
        "theta2_rvar = Ps[:,1,1]"
      ],
      "metadata": {
        "id": "2W5JmVHQm1P8"
      },
      "execution_count": 259,
      "outputs": []
    },
    {
      "cell_type": "code",
      "source": [
        "# Plot the generated data\n",
        "plt.figure()\n",
        "plt.plot(X, theta1_rvar, 'k', linewidth=3, label=r\"Recursive $Var[\\theta_1]$\")\n",
        "plt.plot(X, theta1_bvar, 'k--', linewidth=3, label=r\"Batch $Var[\\theta_1]$\")\n",
        "plt.plot(X, theta2_rvar, color='gray', linewidth=3, label=r\"Recursive $Var[\\theta_2]$\")\n",
        "plt.plot(X, theta2_bvar, '--', color='gray', linewidth=3, label=r\"Batch $Var[\\theta_2]$\")\n",
        "plt.xlabel('$t$'); plt.ylabel('$y$')\n",
        "plt.yscale(\"log\")\n",
        "plt.xlim(0, 1); plt.ylim(1e-3, 5)\n",
        "plt.gca().set_aspect(0.2)\n",
        "plt.legend(loc=1, borderpad=0.8, handlelength=4, fancybox=False, edgecolor='k');\n",
        "plt.grid(True, which=\"both\", ls=':')"
      ],
      "metadata": {
        "id": "qW-3mm-tqB5j",
        "outputId": "078b1de3-8d3c-4142-da0d-8b76f2a213a8",
        "colab": {
          "base_uri": "https://localhost:8080/",
          "height": 281
        }
      },
      "execution_count": 267,
      "outputs": [
        {
          "output_type": "display_data",
          "data": {
            "text/plain": [
              "<Figure size 432x288 with 1 Axes>"
            ],
            "image/png": "[encoded data removed]"
          },
          "metadata": {
            "needs_background": "light"
          }
        }
      ]
    },
    {
      "cell_type": "code",
      "source": [
        ""
      ],
      "metadata": {
        "id": "FvF30J_zqoi0"
      },
      "execution_count": null,
      "outputs": []
    }
  ]
}