{
  "nbformat": 4,
  "nbformat_minor": 0,
  "metadata": {
    "colab": {
      "name": "Ch3.ipynb",
      "provenance": [],
      "include_colab_link": true
    },
    "kernelspec": {
      "name": "python3",
      "display_name": "Python 3"
    },
    "language_info": {
      "name": "python"
    }
  },
  "cells": [
    {
      "cell_type": "markdown",
      "metadata": {
        "id": "view-in-github",
        "colab_type": "text"
      },
      "source": [
        "<a href=\"https://colab.research.google.com/github/petergchang/sarkka-jax/blob/main/Ch3.ipynb\" target=\"_parent\"><img src=\"https://colab.research.google.com/assets/colab-badge.svg\" alt=\"Open In Colab\"/></a>"
      ]
    },
    {
      "cell_type": "markdown",
      "source": [
        "# 3. Batch and Recursive Bayesian Estimation"
      ],
      "metadata": {
        "id": "dVtZw-M7G-nB"
      }
    },
    {
      "cell_type": "markdown",
      "source": [
        "## 3.0 Imports"
      ],
      "metadata": {
        "id": "2z0N1kYPHCTH"
      }
    },
    {
      "cell_type": "code",
      "execution_count": 119,
      "metadata": {
        "id": "qYNWea0jF6gC"
      },
      "outputs": [],
      "source": [
        "%matplotlib inline\n",
        "\n",
        "import jax\n",
        "import jax.numpy as jnp\n",
        "import jax.random as jr\n",
        "from jax import lax\n",
        "import matplotlib.pyplot as plt"
      ]
    },
    {
      "cell_type": "markdown",
      "source": [
        "## 3.1 Batch Linear Regression"
      ],
      "metadata": {
        "id": "jLM3lYzKG7U4"
      }
    },
    {
      "cell_type": "markdown",
      "source": [
        "First, we generate some data that approximately replicates Figure 3.1."
      ],
      "metadata": {
        "id": "mwdXHJ_AHJrY"
      }
    },
    {
      "cell_type": "code",
      "source": [
        "# Generate grid\n",
        "X = jnp.linspace(0.0, 1.0, 100)\n",
        "\n",
        "# Define linear regression model\n",
        "def lr_model(key, x, theta, var):\n",
        "    epsilon = jr.normal(key)*var\n",
        "    return theta[1] * x + theta[0] + epsilon\n",
        "lr_model_vmap = jax.vmap(lr_model, in_axes=(0, 0, None, None), out_axes=0)\n",
        "\n",
        "# True parameter values\n",
        "theta = jnp.array([1, 0.5])\n",
        "\n",
        "# True signal\n",
        "Y_tr = theta[1] * X + theta[0]\n",
        "\n",
        "# Generate dataset (var = 0.1)\n",
        "var = 0.1\n",
        "keys = jr.split(jr.PRNGKey(42), X.shape[0])\n",
        "Y = lr_model_vmap(keys, X, theta, var)"
      ],
      "metadata": {
        "id": "u8CBOfQ2G4GO"
      },
      "execution_count": 101,
      "outputs": []
    },
    {
      "cell_type": "code",
      "source": [
        "# Plot the generated data\n",
        "plt.figure()\n",
        "plt.plot(X, Y, 'k.', label='Measurement')\n",
        "plt.plot(X, Y_tr, color='silver', linewidth=7, label=\"True Signal\")\n",
        "plt.xlabel('$t$'); plt.ylabel('$y$')\n",
        "plt.xlim(0, 1); plt.ylim(0.5, 2)\n",
        "plt.yticks(jnp.arange(0.5, 2.1, 0.5))\n",
        "plt.gca().set_aspect(0.5)\n",
        "plt.legend(loc=1, borderpad=0.8, handlelength=4, fancybox=False, edgecolor='k');\n",
        "plt.show()"
      ],
      "metadata": {
        "id": "_9GJxEqwJSXi",
        "outputId": "a2510851-4249-459e-bc2a-097f6d1fb633",
        "colab": {
          "base_uri": "https://localhost:8080/",
          "height": 285
        }
      },
      "execution_count": 102,
      "outputs": [
        {
          "output_type": "display_data",
          "data": {
            "text/plain": [
              "<Figure size 432x288 with 1 Axes>"
            ],
            "image/png": "[encoded data removed]"
          },
          "metadata": {
            "needs_background": "light"
          }
        }
      ]
    },
    {
      "cell_type": "markdown",
      "source": [
        "Now we apply the batch solution, given by equation (3.4):\n",
        "\\begin{align*}\n",
        "    \\textbf{m}_T &= \\left[ \\textbf{P}_0^{-1} + \\frac{1}{\\sigma^2} \\textbf{H}^T \\textbf{H} \\right]^{-1} \\left[ \\frac{1}{\\sigma^2} \\textbf{H}^T \\textbf{y} + \\textbf{P}_0^{-1} \\textbf{m}_0 \\right] \\\\\n",
        "\\textbf{P}_T &= \\left[ \\textbf{P}_0^{-1} + \\frac{1}{\\sigma^2} \\textbf{H}^T \\textbf{H} \\right]^{-1}\n",
        "\\end{align*}\n",
        "where our we arbitrarily set our prior distribution to:\n",
        "\\begin{align*}\n",
        "    p(\\theta) &= \\mathcal{N}(\\theta \\mid \\textbf{m}_0, \\textbf{P}_0) = \\mathcal{N}(\\theta \\mid (0, 0)^T, \\mathcal{I})\n",
        "\\end{align*}"
      ],
      "metadata": {
        "id": "txHdBvukRmca"
      }
    },
    {
      "cell_type": "code",
      "source": [
        "# Parameter update model\n",
        "def update_params(m_prior, P_prior, X, Y, meas_var):\n",
        "    H = jnp.vstack(([1, x] for x in X))\n",
        "    P_post = jnp.linalg.inv(jnp.linalg.inv(P_0) + H.T @ H / meas_var)\n",
        "    m_post = P_post @ (H.T @ Y / meas_var + jnp.linalg.inv(P_0) @ m_0)\n",
        "    return m_post, P_post "
      ],
      "metadata": {
        "id": "IeqkKyXXgFn4"
      },
      "execution_count": 113,
      "outputs": []
    },
    {
      "cell_type": "code",
      "source": [
        "# Prior parameters\n",
        "m_0 = jnp.array([0,0], dtype=jnp.float32)\n",
        "P_0 = jnp.eye(2)\n",
        "\n",
        "# Posterior parameters\n",
        "m_T, P_T = update_params(m_0, P_0, X, Y, var)\n",
        "\n",
        "print('True theta value = ', theta)\n",
        "print('Posterior theta mean = ', m_T)"
      ],
      "metadata": {
        "id": "uqwBXd-PLfCX",
        "outputId": "28108cd6-4f2d-4d4f-d7c1-035326d3b2e4",
        "colab": {
          "base_uri": "https://localhost:8080/"
        }
      },
      "execution_count": 128,
      "outputs": [
        {
          "output_type": "stream",
          "name": "stdout",
          "text": [
            "True theta value =  [1.  0.5]\n",
            "Posterior theta mean =  [0.979979   0.53430796]\n"
          ]
        }
      ]
    },
    {
      "cell_type": "code",
      "source": [
        "# Posterior estimation\n",
        "Y_post = m_T[1] * X + m_T[0]\n",
        "\n",
        "# Plot the generated data\n",
        "plt.figure()\n",
        "plt.plot(X, Y, 'k.', label='Measurement')\n",
        "plt.plot(X, Y_tr, color='silver', linewidth=7, label=\"True Signal\")\n",
        "plt.plot(X, Y_post, color='k', linewidth=3, label=\"Estimate\")\n",
        "plt.xlabel('$t$'); plt.ylabel('$y$')\n",
        "plt.xlim(0, 1); plt.ylim(0.5, 2)\n",
        "plt.yticks(jnp.arange(0.5, 2.1, 0.5))\n",
        "plt.gca().set_aspect(0.5)\n",
        "plt.legend(loc=1, borderpad=0.8, handlelength=4, fancybox=False, edgecolor='k');\n",
        "plt.show()"
      ],
      "metadata": {
        "id": "7K1A-9JuTjsT",
        "outputId": "d7696e2b-ed4b-4ec0-cc66-92ab5f48e475",
        "colab": {
          "base_uri": "https://localhost:8080/",
          "height": 285
        }
      },
      "execution_count": 129,
      "outputs": [
        {
          "output_type": "display_data",
          "data": {
            "text/plain": [
              "<Figure size 432x288 with 1 Axes>"
            ],
            "image/png": "[encoded data removed]"
          },
          "metadata": {
            "needs_background": "light"
          }
        }
      ]
    },
    {
      "cell_type": "markdown",
      "source": [
        "## 3.2 Recursive Linear Regression"
      ],
      "metadata": {
        "id": "MqsZ7mmkVxzy"
      }
    },
    {
      "cell_type": "markdown",
      "source": [
        "We use equation (3.7) to replicate Figure 3.3."
      ],
      "metadata": {
        "id": "UbnlDGs7pRnK"
      }
    },
    {
      "cell_type": "code",
      "source": [
        "def recursive_lin_reg(m_0, P_0, obs_var, X, Y):\n",
        "    def _step(carry, t):\n",
        "        m_k, P_k = carry\n",
        "        H_k = jnp.array([[1, X[t]]])\n",
        "\n",
        "        # Compute params after single update\n",
        "        P_post = jnp.linalg.inv(jnp.linalg.inv(P_k) + H_k.T @ H_k / obs_var)\n",
        "        m_post = P_post @ (H_k * Y[t] / obs_var + \n",
        "                           jnp.linalg.inv(P_k) @ m_k).reshape(2,)\n",
        "\n",
        "        return (m_post, P_post), (m_post, P_post)\n",
        "\n",
        "    num_timesteps = len(Y)\n",
        "    carry = (m_0, P_0)\n",
        "    _, (ms, Ps) = lax.scan(\n",
        "        _step, carry, jnp.arange(num_timesteps)\n",
        "    )\n",
        "    return ms, Ps"
      ],
      "metadata": {
        "id": "B2bBB--KVkwO"
      },
      "execution_count": 215,
      "outputs": []
    },
    {
      "cell_type": "code",
      "source": [
        "# Batch data\n",
        "theta1_batch = jnp.ones(X.shape) * m_T[0]\n",
        "theta2_batch = jnp.ones(X.shape) * m_T[1]\n",
        "\n",
        "# Recursive data\n",
        "ms, Ps = recursive_lin_reg(m_0, P_0, var, X, Y)\n",
        "theta1_recursive = ms[:,0]\n",
        "theta2_recursive = ms[:,1]"
      ],
      "metadata": {
        "id": "UEdB93TVnFBV"
      },
      "execution_count": 216,
      "outputs": []
    },
    {
      "cell_type": "code",
      "source": [
        "# Batch data\n",
        "theta1_batch = jnp.ones(X.shape) * m_T[0]\n",
        "theta2_batch = jnp.ones(X.shape) * m_T[1]\n",
        "\n",
        "# Plot the generated data\n",
        "plt.figure()\n",
        "plt.plot(X, theta1_recursive, 'k', linewidth=3, label=r\"Recursive $E[\\theta_1]$\")\n",
        "plt.plot(X, theta1_batch, 'k--', linewidth=3, label=r\"Batch $E[\\theta_1]$\")\n",
        "plt.plot(X, theta2_recursive, color='gray', linewidth=3, label=r\"Recursive $E[\\theta_2]$\")\n",
        "plt.plot(X, theta2_batch, '--', color='gray', linewidth=3, label=r\"Batch $E[\\theta_2]$\")\n",
        "plt.xlabel('$t$'); plt.ylabel('$y$')\n",
        "plt.xlim(0, 1); plt.ylim(-0.4, 1.2)\n",
        "plt.yticks(jnp.arange(-0.4, 1.3, 0.2))\n",
        "plt.gca().set_aspect(0.5)\n",
        "plt.legend(loc=4, borderpad=0.8, handlelength=4, fancybox=False, edgecolor='k');\n",
        "plt.show()"
      ],
      "metadata": {
        "id": "i8wHODpHkc1N",
        "outputId": "a5f003ca-a5d5-4d98-e42b-f1606309a536",
        "colab": {
          "base_uri": "https://localhost:8080/",
          "height": 285
        }
      },
      "execution_count": 217,
      "outputs": [
        {
          "output_type": "display_data",
          "data": {
            "text/plain": [
              "<Figure size 432x288 with 1 Axes>"
            ],
            "image/png": "[encoded data removed]"
          },
          "metadata": {
            "needs_background": "light"
          }
        }
      ]
    },
    {
      "cell_type": "code",
      "source": [
        ""
      ],
      "metadata": {
        "id": "2W5JmVHQm1P8"
      },
      "execution_count": null,
      "outputs": []
    }
  ]
}