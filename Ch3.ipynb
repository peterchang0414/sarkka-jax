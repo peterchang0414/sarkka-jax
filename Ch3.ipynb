{
  "nbformat": 4,
  "nbformat_minor": 0,
  "metadata": {
    "colab": {
      "name": "Ch3.ipynb",
      "provenance": [],
      "include_colab_link": true
    },
    "kernelspec": {
      "name": "python3",
      "display_name": "Python 3"
    },
    "language_info": {
      "name": "python"
    }
  },
  "cells": [
    {
      "cell_type": "markdown",
      "metadata": {
        "id": "view-in-github",
        "colab_type": "text"
      },
      "source": [
        "<a href=\"https://colab.research.google.com/github/petergchang/sarkka-jax/blob/main/Ch3.ipynb\" target=\"_parent\"><img src=\"https://colab.research.google.com/assets/colab-badge.svg\" alt=\"Open In Colab\"/></a>"
      ]
    },
    {
      "cell_type": "markdown",
      "source": [
        "# 3. Batch and Recursive Bayesian Estimation"
      ],
      "metadata": {
        "id": "dVtZw-M7G-nB"
      }
    },
    {
      "cell_type": "markdown",
      "source": [
        "## 3.0 Imports"
      ],
      "metadata": {
        "id": "2z0N1kYPHCTH"
      }
    },
    {
      "cell_type": "code",
      "execution_count": 1,
      "metadata": {
        "id": "qYNWea0jF6gC"
      },
      "outputs": [],
      "source": [
        "%matplotlib inline\n",
        "\n",
        "import jax\n",
        "import jax.numpy as jnp\n",
        "import jax.random as jr\n",
        "import matplotlib.pyplot as plt"
      ]
    },
    {
      "cell_type": "markdown",
      "source": [
        "## 3.1 Batch Linear Regression"
      ],
      "metadata": {
        "id": "jLM3lYzKG7U4"
      }
    },
    {
      "cell_type": "markdown",
      "source": [
        "First, we generate some data that approximately matches Figure 3.1."
      ],
      "metadata": {
        "id": "mwdXHJ_AHJrY"
      }
    },
    {
      "cell_type": "code",
      "source": [
        "# Generate grid\n",
        "X = jnp.linspace(0.0, 1.0, 100)\n",
        "\n",
        "# Define linear regression model\n",
        "def lr_model(key, x, theta, var):\n",
        "    epsilon = jr.normal(key)*var\n",
        "    return theta[1] * x + theta[0] + epsilon\n",
        "lr_model_vmap = jax.vmap(lr_model, in_axes=(0, 0, None, None), out_axes=0)\n",
        "\n",
        "# True parameter values\n",
        "theta = jnp.array([1, 0.5])\n",
        "\n",
        "# True signal\n",
        "Y_tr = theta[1] * X + theta[0]\n",
        "\n",
        "# Generate dataset (var = 0.1)\n",
        "var = 0.1\n",
        "keys = jr.split(jr.PRNGKey(42), X.shape[0])\n",
        "Y = lr_model_vmap(keys, X, theta, var)"
      ],
      "metadata": {
        "id": "u8CBOfQ2G4GO"
      },
      "execution_count": 88,
      "outputs": []
    },
    {
      "cell_type": "code",
      "source": [
        "# Plot the generated data\n",
        "plt.figure()\n",
        "plt.plot(X, Y, 'k.', label='Measurement')\n",
        "plt.plot(X, Y_tr, color='silver', linewidth=7, label=\"True Signal\")\n",
        "plt.xlabel('$t$'); plt.ylabel('$y$')\n",
        "plt.xlim(0, 1); plt.ylim(0.5, 2)\n",
        "plt.yticks(jnp.arange(0.5, 2.1, 0.5))\n",
        "plt.gca().set_aspect(0.5)\n",
        "plt.legend(loc=1, borderpad=0.8, handlelength=4, fancybox=False, edgecolor='k');\n",
        "plt.show()"
      ],
      "metadata": {
        "id": "_9GJxEqwJSXi",
        "outputId": "d537ef0d-a6f8-4ce2-96ad-8689148a13aa",
        "colab": {
          "base_uri": "https://localhost:8080/",
          "height": 285
        }
      },
      "execution_count": 89,
      "outputs": [
        {
          "output_type": "display_data",
          "data": {
            "text/plain": [
              "<Figure size 432x288 with 1 Axes>"
            ],
            "image/png": "[encoded data removed]"
          },
          "metadata": {
            "needs_background": "light"
          }
        }
      ]
    },
    {
      "cell_type": "markdown",
      "source": [
        "Now we apply the batch solution, given by equation (3.4):\n",
        "\\begin{align*}\n",
        "    \\textbf{m}_T &= \\left[ \\textbf{P}_0^{-1} + \\frac{1}{\\sigma^2} \\textbf{H}^T \\textbf{H} \\right]^{-1} \\left[ \\frac{1}{\\sigma^2} \\textbf{H}^T \\textbf{y} + \\textbf{P}_0^{-1} \\textbf{m}_0 \\right] \\\\\n",
        "\\textbf{P}_T &= \\left[ \\textbf{P}_0^{-1} + \\frac{1}{\\sigma^2} \\textbf{H}^T \\textbf{H} \\right]^{-1}\n",
        "\\end{align*}\n",
        "where our we arbitrarily set our prior distribution to:\n",
        "\\begin{align*}\n",
        "    p(\\theta) &= \\mathcal{N}(\\theta \\mid \\textbf{m}_0, \\textbf{P}_0) = \\mathcal{N}(\\theta \\mid (0, 0)^T, \\mathcal{I})\n",
        "\\end{align*}"
      ],
      "metadata": {
        "id": "txHdBvukRmca"
      }
    },
    {
      "cell_type": "code",
      "source": [
        "# Prior parameters\n",
        "m_0 = jnp.array([0,0])\n",
        "P_0 = jnp.eye(2)\n",
        "\n",
        "# Posterior parameters\n",
        "H = jnp.vstack(([1, x] for x in X))\n",
        "P_T = jnp.linalg.inv(jnp.linalg.inv(P_0) + H.T @ H / var)\n",
        "m_T = P_T @ (H.T @ Y / var + jnp.linalg.inv(P_0) @ m_0)\n",
        "\n",
        "print('True theta value = ', theta)\n",
        "print('Posterior theta mean = ', m_T)"
      ],
      "metadata": {
        "id": "uqwBXd-PLfCX",
        "outputId": "e427e059-6ddb-418f-829d-636d6212a791",
        "colab": {
          "base_uri": "https://localhost:8080/"
        }
      },
      "execution_count": 95,
      "outputs": [
        {
          "output_type": "stream",
          "name": "stdout",
          "text": [
            "True theta value =  [1.  0.5]\n",
            "Posterior theta mean =  [0.979979   0.53430796]\n"
          ]
        }
      ]
    },
    {
      "cell_type": "code",
      "source": [
        "# Posterior estimation\n",
        "Y_post = m_T[1] * X + m_T[0]\n",
        "\n",
        "# Plot the generated data\n",
        "plt.figure()\n",
        "plt.plot(X, Y, 'k.', label='Measurement')\n",
        "plt.plot(X, Y_tr, color='silver', linewidth=7, label=\"True Signal\")\n",
        "plt.plot(X, Y_post, color='k', linewidth=3, label=\"Estimate\")\n",
        "plt.xlabel('$t$'); plt.ylabel('$y$')\n",
        "plt.xlim(0, 1); plt.ylim(0.5, 2)\n",
        "plt.yticks(jnp.arange(0.5, 2.1, 0.5))\n",
        "plt.gca().set_aspect(0.5)\n",
        "plt.legend(loc=1, borderpad=0.8, handlelength=4, fancybox=False, edgecolor='k');\n",
        "plt.show()"
      ],
      "metadata": {
        "id": "7K1A-9JuTjsT",
        "outputId": "a1d2182d-fe35-4073-eca4-246a5c11db57",
        "colab": {
          "base_uri": "https://localhost:8080/",
          "height": 285
        }
      },
      "execution_count": 99,
      "outputs": [
        {
          "output_type": "display_data",
          "data": {
            "text/plain": [
              "<Figure size 432x288 with 1 Axes>"
            ],
            "image/png": "[encoded data removed]"
          },
          "metadata": {
            "needs_background": "light"
          }
        }
      ]
    },
    {
      "cell_type": "markdown",
      "source": [
        ""
      ],
      "metadata": {
        "id": "MqsZ7mmkVxzy"
      }
    },
    {
      "cell_type": "code",
      "source": [
        ""
      ],
      "metadata": {
        "id": "B2bBB--KVkwO"
      },
      "execution_count": null,
      "outputs": []
    }
  ]
}