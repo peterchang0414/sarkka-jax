{
  "nbformat": 4,
  "nbformat_minor": 0,
  "metadata": {
    "colab": {
      "name": "car_track.ipynb",
      "provenance": [],
      "include_colab_link": true
    },
    "kernelspec": {
      "name": "python3",
      "display_name": "Python 3"
    },
    "language_info": {
      "name": "python"
    }
  },
  "cells": [
    {
      "cell_type": "markdown",
      "metadata": {
        "id": "view-in-github",
        "colab_type": "text"
      },
      "source": [
        "<a href=\"https://colab.research.google.com/github/petergchang/sarkka-jax/blob/main/car_track.ipynb\" target=\"_parent\"><img src=\"https://colab.research.google.com/assets/colab-badge.svg\" alt=\"Open In Colab\"/></a>"
      ]
    },
    {
      "cell_type": "code",
      "execution_count": 35,
      "metadata": {
        "id": "meHdQvzssf4T"
      },
      "outputs": [],
      "source": [
        "import jax.numpy as jnp\n",
        "import jax.random as jr\n",
        "from jax import lax\n",
        "import matplotlib.pyplot as plt\n",
        "from scipy import linalg"
      ]
    },
    {
      "cell_type": "code",
      "source": [
        "def _atleast2d(*args):\n",
        "    return tuple(jnp.atleast_2d(elem) for elem in args)"
      ],
      "metadata": {
        "id": "42GBPS-semTS"
      },
      "execution_count": 2,
      "outputs": []
    },
    {
      "cell_type": "code",
      "source": [
        "def generate_ssm_naive(key, m_0, A, Q, H, R, steps):\n",
        "    m_0 = jnp.atleast_1d(m_0)\n",
        "    A, Q, H, R = _atleast2d(A, Q, H, R)\n",
        "    \n",
        "    M, N = m_0.shape[-1], R.shape[-1]\n",
        "    states = []\n",
        "    observations = []\n",
        "\n",
        "    state = m_0\n",
        "    for i in range(steps):\n",
        "        key, rng = jr.split(key)\n",
        "        state = A @ state + jr.multivariate_normal(rng, jnp.zeros(M), Q, method='cholesky')\n",
        "        states.append(state)\n",
        "        obs = H @ state + jr.multivariate_normal(rng, jnp.zeros(N), R, method='cholesky')\n",
        "        observations.append(obs)\n",
        "    \n",
        "    return states, observations"
      ],
      "metadata": {
        "id": "cvBl4ABGcNg5"
      },
      "execution_count": 3,
      "outputs": []
    },
    {
      "cell_type": "code",
      "source": [
        "def generate_ssm(key, m_0, A, Q, H, R, steps):\n",
        "    def _step(carry, rng_and_t):\n",
        "        state = carry\n",
        "        rng, t = rng_and_t\n",
        "        rng1, rng2 = jr.split(rng, 2)\n",
        "        next_state = A @ state + jr.multivariate_normal(rng1, jnp.zeros(M), Q)\n",
        "        observation = H @ state + jr.multivariate_normal(rng2, jnp.zeros(N), R)\n",
        "        return next_state, (state, observation)\n",
        "    m_0 = jnp.atleast_1d(m_0)\n",
        "    A, Q, H, R = _atleast2d(A, Q, H, R)\n",
        "    M, N = m_0.shape[-1], R.shape[-1]\n",
        "\n",
        "    state = m_0\n",
        "    rngs = jr.split(key, steps)\n",
        "    _, (states, observations) = lax.scan(\n",
        "        _step, state, (rngs, jnp.arange(steps))\n",
        "    )\n",
        "    return states, observations"
      ],
      "metadata": {
        "id": "tgRyK9t8gjKu"
      },
      "execution_count": 4,
      "outputs": []
    },
    {
      "cell_type": "code",
      "source": [
        "M, N = 2, 1\n",
        "m_0 = jnp.zeros(M)\n",
        "P_0 = Q = jnp.array([[0.4, -0.2],\n",
        "                     [-0.2, 0.5]])\n",
        "A = jnp.zeros((M, M))\n",
        "H = [0., 0.]\n",
        "R = 0.5\n",
        "key = jr.PRNGKey(0)"
      ],
      "metadata": {
        "colab": {
          "base_uri": "https://localhost:8080/"
        },
        "id": "-PbzDFMtcF2e",
        "outputId": "3dac18e4-a3b6-4fc3-a63d-d5af73fc3213"
      },
      "execution_count": 5,
      "outputs": [
        {
          "output_type": "stream",
          "name": "stderr",
          "text": [
            "WARNING:absl:No GPU/TPU found, falling back to CPU. (Set TF_CPP_MIN_LOG_LEVEL=0 and rerun for more info.)\n"
          ]
        }
      ]
    },
    {
      "cell_type": "code",
      "source": [
        "%%time\n",
        "states, observations = generate_ssm_naive(key, m_0, A, Q, H, R, 100000)"
      ],
      "metadata": {
        "colab": {
          "base_uri": "https://localhost:8080/"
        },
        "id": "qq1uc3Xicbbn",
        "outputId": "19b80f43-9d94-4462-f7ac-1ed46d503c94"
      },
      "execution_count": 21,
      "outputs": [
        {
          "output_type": "stream",
          "name": "stdout",
          "text": [
            "CPU times: user 1min, sys: 295 ms, total: 1min\n",
            "Wall time: 1min 1s\n"
          ]
        }
      ]
    },
    {
      "cell_type": "code",
      "source": [
        "%%time\n",
        "states, observations = generate_ssm(key, m_0, A, Q, H, R, 100000)"
      ],
      "metadata": {
        "colab": {
          "base_uri": "https://localhost:8080/"
        },
        "id": "cKEwDNaAcIYE",
        "outputId": "032065fe-8372-46bc-f8ab-b410a59e1925"
      },
      "execution_count": 24,
      "outputs": [
        {
          "output_type": "stream",
          "name": "stdout",
          "text": [
            "CPU times: user 5.25 s, sys: 193 ms, total: 5.44 s\n",
            "Wall time: 5.23 s\n"
          ]
        }
      ]
    },
    {
      "cell_type": "code",
      "source": [
        "# Plot timed results against different step sizes\n",
        "import numpy as np\n",
        "import time\n",
        "\n",
        "key = jr.PRNGKey(0)\n",
        "step_grid = np.arange(0, 10000, 200)\n",
        "\n",
        "naive_times, lax_times = [], []\n",
        "for step_size in step_grid:\n",
        "    start = time.time()\n",
        "    _ = generate_ssm_naive(key, m_0, A, Q, H, R, step_size)\n",
        "    naive_time = time.time()-start\n",
        "    naive_times.append(naive_time)\n",
        "    start = time.time()\n",
        "    _ = generate_ssm(key, m_0, A, Q, H, R, step_size)\n",
        "    lax_time = time.time()-start\n",
        "    lax_times.append(lax_time)\n",
        "    if ((step_size%1000) == 0):\n",
        "        print(\"current step size = \", step_size)\n",
        "        print(\"naive approach took \", naive_time, \" seconds.\")\n",
        "        print(\"lax scan approach took \", lax_time, \" seconds.\")"
      ],
      "metadata": {
        "colab": {
          "base_uri": "https://localhost:8080/"
        },
        "id": "2BMPSU8fdKtF",
        "outputId": "76f91424-d7fa-43fd-9d81-b8184e740b51"
      },
      "execution_count": 11,
      "outputs": [
        {
          "output_type": "stream",
          "name": "stdout",
          "text": [
            "current step size =  0\n",
            "naive approach took  0.0007956027984619141  seconds.\n",
            "lax scan approach took  0.5086143016815186  seconds.\n",
            "current step size =  1000\n",
            "naive approach took  0.6456422805786133  seconds.\n",
            "lax scan approach took  0.9431383609771729  seconds.\n",
            "current step size =  2000\n",
            "naive approach took  1.332261562347412  seconds.\n",
            "lax scan approach took  1.0399634838104248  seconds.\n",
            "current step size =  3000\n",
            "naive approach took  1.9527490139007568  seconds.\n",
            "lax scan approach took  0.9888734817504883  seconds.\n",
            "current step size =  4000\n",
            "naive approach took  2.603656530380249  seconds.\n",
            "lax scan approach took  0.9959025382995605  seconds.\n",
            "current step size =  5000\n",
            "naive approach took  3.3379099369049072  seconds.\n",
            "lax scan approach took  0.9496066570281982  seconds.\n",
            "current step size =  6000\n",
            "naive approach took  3.900109052658081  seconds.\n",
            "lax scan approach took  0.8973994255065918  seconds.\n",
            "current step size =  7000\n",
            "naive approach took  4.601067066192627  seconds.\n",
            "lax scan approach took  1.0105831623077393  seconds.\n",
            "current step size =  8000\n",
            "naive approach took  5.29032826423645  seconds.\n",
            "lax scan approach took  1.0231716632843018  seconds.\n",
            "current step size =  9000\n",
            "naive approach took  5.972745895385742  seconds.\n",
            "lax scan approach took  0.9713997840881348  seconds.\n"
          ]
        }
      ]
    },
    {
      "cell_type": "code",
      "source": [
        "# Plot the result\n",
        "plt.figure()\n",
        "plt.plot(step_grid, naive_times, label='naive')\n",
        "plt.plot(step_grid, lax_times, label='lax')\n",
        "plt.xlabel('step grid size')\n",
        "plt.ylabel('compute time in s')\n",
        "plt.legend();\n",
        "plt.show()"
      ],
      "metadata": {
        "colab": {
          "base_uri": "https://localhost:8080/",
          "height": 279
        },
        "id": "aEaZLKn4ipgh",
        "outputId": "68383ae1-78f5-48a8-9f10-bbe1974a5263"
      },
      "execution_count": 12,
      "outputs": [
        {
          "output_type": "display_data",
          "data": {
            "text/plain": [
              "<Figure size 432x288 with 1 Axes>"
            ],
            "image/png": "[encoded data removed]"
          },
          "metadata": {
            "needs_background": "light"
          }
        }
      ]
    },
    {
      "cell_type": "code",
      "source": [
        "def plot_car_trajectory(y, x1, label1, x2=None, label2=None):\n",
        "    fig, ax = plt.subplots(figsize=(10, 10))\n",
        "    ax.scatter(y[:, 0], y[:, 1], marker=\"o\", label=\"Measurements\", color=\"red\")\n",
        "    ax.plot(x1[:, 0], x1[:, 1], label=label1, color=\"blue\")\n",
        "    if x2 is None:\n",
        "        ax.scatter(x1[0, 0], x1[0, 1], marker=\"x\", color=\"orange\", s=500)\n",
        "    else:\n",
        "        ax.plot(x2[:, 0], x2[:, 1], label=label2, color=\"orange\")\n",
        "    _ = ax.legend()\n",
        "    _ = ax.set_xlabel(\"${\\it x}_1$\")\n",
        "    _ = ax.set_ylabel(\"${\\it y}_1$\")"
      ],
      "metadata": {
        "id": "2N-4Gdbzsf78"
      },
      "execution_count": 21,
      "outputs": []
    },
    {
      "cell_type": "code",
      "source": [
        "q = 1.\n",
        "dt = 0.1\n",
        "s = 0.5\n",
        "\n",
        "M = 4  # State dimension\n",
        "N = 2  # Observation dimension"
      ],
      "metadata": {
        "id": "qGQ-pAKnsBeQ"
      },
      "execution_count": 13,
      "outputs": []
    },
    {
      "cell_type": "code",
      "source": [
        "\n",
        "A = jnp.array([[1, 0, dt, 0],\n",
        "               [0, 1, 0, dt],\n",
        "               [0, 0, 1, 0],\n",
        "               [0, 0, 0, 1]])"
      ],
      "metadata": {
        "id": "p615qg5osEvx"
      },
      "execution_count": 14,
      "outputs": []
    },
    {
      "cell_type": "code",
      "source": [
        "Q = q * jnp.array([[dt ** 3 / 3, 0, dt ** 2 / 2, 0],\n",
        "                   [0, dt **3 / 3, 0, dt ** 2 / 2],\n",
        "                   [dt ** 2 / 2, 0, dt, 0],\n",
        "                   [0, dt ** 2 / 2, 0, dt]])"
      ],
      "metadata": {
        "id": "uid3V474sJGc"
      },
      "execution_count": 15,
      "outputs": []
    },
    {
      "cell_type": "code",
      "source": [
        "H = jnp.array([[1, 0, 0, 0],\n",
        "               [0, 1, 0, 0]])"
      ],
      "metadata": {
        "id": "HGplPCdksL-U"
      },
      "execution_count": 16,
      "outputs": []
    },
    {
      "cell_type": "code",
      "source": [
        "R = jnp.array([[s ** 2, 0],\n",
        "               [0, s ** 2]])"
      ],
      "metadata": {
        "id": "0KYAF9r8sN9t"
      },
      "execution_count": 17,
      "outputs": []
    },
    {
      "cell_type": "code",
      "source": [
        "x_0 = np.array([0., 0., 1., -1.])"
      ],
      "metadata": {
        "id": "6ufYwIqzsPzb"
      },
      "execution_count": 18,
      "outputs": []
    },
    {
      "cell_type": "code",
      "source": [
        "steps = 100\n",
        "key = jr.PRNGKey(42)\n",
        "\n",
        "states, observations = generate_ssm(key, x_0, A, Q, H, R, steps)"
      ],
      "metadata": {
        "id": "3Dutp3LfsQ-T"
      },
      "execution_count": 30,
      "outputs": []
    },
    {
      "cell_type": "code",
      "source": [
        "plot_car_trajectory(observations, states, \"Trajectory\")"
      ],
      "metadata": {
        "colab": {
          "base_uri": "https://localhost:8080/",
          "height": 607
        },
        "id": "3rckHvFYsUpz",
        "outputId": "de965f55-c629-4d48-aaae-124bcf0216a2"
      },
      "execution_count": 31,
      "outputs": [
        {
          "output_type": "display_data",
          "data": {
            "text/plain": [
              "<Figure size 720x720 with 1 Axes>"
            ],
            "image/png": "[encoded data removed]"
          },
          "metadata": {
            "needs_background": "light"
          }
        }
      ]
    },
    {
      "cell_type": "code",
      "source": [
        "def kalman_filter(m_0, P_0, A, Q, H, R, observations):\n",
        "    M = m_0.shape[-1]\n",
        "    steps, N = observations.shape\n",
        "\n",
        "    kf_m = []\n",
        "    kf_P = []\n",
        "\n",
        "    m = m_0\n",
        "    P = P_0\n",
        "\n",
        "    for i in range(steps):\n",
        "        observation = observations[i]\n",
        "        m = A @ m\n",
        "        P = A @ P @ A.T + Q\n",
        "\n",
        "        S = H @ P @ H.T + R\n",
        "        K = linalg.solve(S.T, H @ P.T, assume_a=\"pos\").T\n",
        "\n",
        "        m = m + K @ (observation - H @ m)\n",
        "        P = P - K @ S @ K.T\n",
        "\n",
        "        kf_m.append(m)\n",
        "        kf_P.append(P)\n",
        "    \n",
        "    return jnp.array(kf_m), jnp.array(kf_P)"
      ],
      "metadata": {
        "id": "009TJ-mhsmvK"
      },
      "execution_count": 40,
      "outputs": []
    },
    {
      "cell_type": "code",
      "source": [
        "m_0 = x_0\n",
        "P_0 = np.array([[1, 0, 0, 0],\n",
        "                [0, 1, 0, 0],\n",
        "                [0, 0, 1, 0],\n",
        "                [0, 0, 0, 1]])\n",
        "\n",
        "\n",
        "kf_m, kf_P = kalman_filter(m_0, P_0, A, Q, H, R, observations)"
      ],
      "metadata": {
        "id": "ru92XJnEGGWS"
      },
      "execution_count": 41,
      "outputs": []
    },
    {
      "cell_type": "code",
      "source": [
        "kf_m"
      ],
      "metadata": {
        "id": "xrNwSAwEHUT_",
        "outputId": "ddf05a3d-8350-4acf-ed70-1a2dcd7d2813",
        "colab": {
          "base_uri": "https://localhost:8080/"
        }
      },
      "execution_count": 42,
      "outputs": [
        {
          "output_type": "execute_result",
          "data": {
            "text/plain": [
              "DeviceArray([[-0.19935796, -0.09730081,  0.9688889 , -0.9997195 ],\n",
              "             [ 0.10021787,  0.08624749,  1.0956291 , -0.82243425],\n",
              "             [ 0.3006624 , -0.15578187,  1.2187765 , -1.038949  ],\n",
              "             [ 0.47122777,  0.15376306,  1.3120757 , -0.24668229],\n",
              "             [ 0.45049256, -0.20349748,  0.98358643, -0.9657228 ],\n",
              "             [ 0.48796022, -0.20250806,  0.8503673 , -0.75227433],\n",
              "             [ 0.44694698, -0.37698272,  0.5835035 , -0.9623933 ],\n",
              "             [ 0.42065153, -0.533377  ,  0.4123575 , -1.084021  ],\n",
              "             [ 0.501112  , -0.29231253,  0.48821756, -0.40815735],\n",
              "             [ 0.69006604, -0.54668695,  0.7494839 , -0.80632174],\n",
              "             [ 1.0595433 , -0.75530404,  1.28402   , -1.0385997 ],\n",
              "             [ 1.0928808 , -0.91757196,  1.1145179 , -1.1427424 ],\n",
              "             [ 1.3223059 , -1.0515848 ,  1.3227439 , -1.1775817 ],\n",
              "             [ 1.4218516 , -1.2162374 ,  1.2652439 , -1.259969  ],\n",
              "             [ 1.5671155 , -1.2047853 ,  1.2981309 , -1.018751  ],\n",
              "             [ 1.5618541 , -0.8619255 ,  1.0608748 , -0.23758155],\n",
              "             [ 1.5228195 , -0.8710079 ,  0.8055426 , -0.21176061],\n",
              "             [ 1.5828686 , -0.9064561 ,  0.76940095, -0.23691621],\n",
              "             [ 1.3381373 , -0.89292413,  0.20157582, -0.1712079 ],\n",
              "             [ 1.4215049 , -1.018563  ,  0.31328067, -0.36298132],\n",
              "             [ 1.3631577 , -1.2431732 ,  0.1546923 , -0.6960068 ],\n",
              "             [ 1.4123118 , -1.358287  ,  0.21428691, -0.7765277 ],\n",
              "             [ 1.2444726 , -1.4192787 , -0.12062027, -0.74704623],\n",
              "             [ 1.5113822 , -1.7675114 ,  0.3730312 , -1.231065  ],\n",
              "             [ 1.4078412 , -1.4494629 ,  0.12381318, -0.45045912],\n",
              "             [ 1.6380383 , -1.5802782 ,  0.5092009 , -0.6022131 ],\n",
              "             [ 1.9994557 , -1.4028008 ,  1.0585313 , -0.18167758],\n",
              "             [ 1.9773489 , -1.3562533 ,  0.83215934, -0.06719068],\n",
              "             [ 2.1326132 , -1.4982811 ,  0.9596137 , -0.30655274],\n",
              "             [ 2.0215738 , -1.563192  ,  0.5934382 , -0.3671495 ],\n",
              "             [ 2.2565048 , -1.9998453 ,  0.9040394 , -1.0746123 ],\n",
              "             [ 2.204992  , -1.9933674 ,  0.65300006, -0.8730632 ],\n",
              "             [ 2.4270344 , -2.2140813 ,  0.93026435, -1.1090504 ],\n",
              "             [ 2.4202888 , -2.2192762 ,  0.75377554, -0.9220574 ],\n",
              "             [ 2.4611883 , -2.461175  ,  0.69278634, -1.1868535 ],\n",
              "             [ 2.509294  , -2.5063493 ,  0.6553328 , -1.0568175 ],\n",
              "             [ 2.6030338 , -2.714806  ,  0.7052279 , -1.2386202 ],\n",
              "             [ 2.749426  , -2.6083932 ,  0.83943635, -0.8312772 ],\n",
              "             [ 2.5817418 , -2.7581804 ,  0.394321  , -0.9491941 ],\n",
              "             [ 2.2588642 , -2.988272  , -0.24658492, -1.1883061 ],\n",
              "             [ 2.0783787 , -3.2264378 , -0.52223456, -1.3994037 ],\n",
              "             [ 2.0777488 , -3.3324537 , -0.43096823, -1.3393934 ],\n",
              "             [ 1.9337729 , -3.0645967 , -0.60941786, -0.62863743],\n",
              "             [ 1.8927674 , -3.2233124 , -0.5741516 , -0.7981942 ],\n",
              "             [ 1.7932574 , -3.5471413 , -0.64861524, -1.2298336 ],\n",
              "             [ 1.8783106 , -3.8218815 , -0.38342446, -1.4982829 ],\n",
              "             [ 2.0906947 , -4.188263  ,  0.06009707, -1.8813533 ],\n",
              "             [ 2.037723  , -4.58255   , -0.04423785, -2.2460248 ],\n",
              "             [ 1.8698951 , -4.549192  , -0.3332906 , -1.7897062 ],\n",
              "             [ 2.3166158 , -4.685221  ,  0.51589096, -1.7137446 ],\n",
              "             [ 2.5501833 , -4.7081065 ,  0.8378009 , -1.4510758 ],\n",
              "             [ 2.6406138 , -4.8026075 ,  0.8495653 , -1.3615552 ],\n",
              "             [ 2.5172107 , -4.920878  ,  0.48098847, -1.3299173 ],\n",
              "             [ 2.562538  , -5.0640826 ,  0.47608545, -1.3479832 ],\n",
              "             [ 2.8170614 , -5.4774914 ,  0.8421067 , -1.8408296 ],\n",
              "             [ 3.1826496 , -5.5551577 ,  1.339848  , -1.6525846 ],\n",
              "             [ 3.1325107 , -5.5441394 ,  1.0141435 , -1.3407612 ],\n",
              "             [ 2.9790866 , -5.308771  ,  0.5633483 , -0.6872344 ],\n",
              "             [ 3.2609308 , -5.432236  ,  0.96226215, -0.7840691 ],\n",
              "             [ 3.5509028 , -5.787081  ,  1.3049877 , -1.2730725 ],\n",
              "             [ 3.3087993 , -6.086573  ,  0.6458746 , -1.5776582 ],\n",
              "             [ 3.4343238 , -6.084163  ,  0.7536692 , -1.2943159 ],\n",
              "             [ 3.3756795 , -5.952244  ,  0.5166109 , -0.8320005 ],\n",
              "             [ 3.622905  , -5.9415812 ,  0.8625537 , -0.6659632 ],\n",
              "             [ 3.6751423 , -6.0792036 ,  0.80237764, -0.79160386],\n",
              "             [ 4.020446  , -6.208379  ,  1.2712638 , -0.8800778 ],\n",
              "             [ 3.89761   , -6.366873  ,  0.8290948 , -1.0047637 ],\n",
              "             [ 3.838592  , -6.3821144 ,  0.57803315, -0.85398835],\n",
              "             [ 3.9222252 , -6.379878  ,  0.62372446, -0.69896656],\n",
              "             [ 4.2166667 , -6.456545  ,  1.0342418 , -0.7109424 ],\n",
              "             [ 4.196113  , -6.3648386 ,  0.81493217, -0.42295766],\n",
              "             [ 4.108224  , -6.1740355 ,  0.5153042 , -0.01061818],\n",
              "             [ 4.15849   , -6.077291  ,  0.5130678 ,  0.16239576],\n",
              "             [ 4.1273518 , -6.110593  ,  0.36722726,  0.07475997],\n",
              "             [ 4.386198  , -5.8572736 ,  0.760152  ,  0.50964296],\n",
              "             [ 4.4671335 , -5.692961  ,  0.76885635,  0.7101494 ],\n",
              "             [ 4.71832   , -5.5893755 ,  1.0771848 ,  0.7677657 ],\n",
              "             [ 5.029337  , -5.3872337 ,  1.4368091 ,  0.9895295 ],\n",
              "             [ 5.410596  , -5.369749  ,  1.8570708 ,  0.8454167 ],\n",
              "             [ 5.605939  , -5.3448396 ,  1.8741161 ,  0.73993015],\n",
              "             [ 5.538498  , -5.3263025 ,  1.4232953 ,  0.6418317 ],\n",
              "             [ 5.390875  , -5.208016  ,  0.91038513,  0.73753744],\n",
              "             [ 5.6483297 , -4.877258  ,  1.2047662 ,  1.1921638 ],\n",
              "             [ 5.8505745 , -4.998752  ,  1.3494093 ,  0.76635957],\n",
              "             [ 6.10326   , -4.952394  ,  1.5576926 ,  0.7127996 ],\n",
              "             [ 6.3821373 , -4.9936    ,  1.7754635 ,  0.51381844],\n",
              "             [ 6.5577855 , -4.9819593 ,  1.7721059 ,  0.44351795],\n",
              "             [ 6.761194  , -4.8842907 ,  1.8184487 ,  0.5378325 ],\n",
              "             [ 7.130181  , -4.7817755 ,  2.1494925 ,  0.62403643],\n",
              "             [ 7.0583124 , -4.348808  ,  1.6421281 ,  1.2795436 ],\n",
              "             [ 7.442152  , -4.1949906 ,  2.0306358 ,  1.3252934 ],\n",
              "             [ 7.1986756 , -3.9542968 ,  1.2407312 ,  1.5166306 ],\n",
              "             [ 7.447934  , -3.554933  ,  1.4621774 ,  1.9547995 ],\n",
              "             [ 7.4831414 , -3.4913557 ,  1.2658055 ,  1.7214713 ],\n",
              "             [ 7.5420218 , -3.3817172 ,  1.146047  ,  1.6108971 ],\n",
              "             [ 7.917526  , -3.1160424 ,  1.6075642 ,  1.7959024 ],\n",
              "             [ 8.168766  , -2.8871963 ,  1.7676244 ,  1.8830333 ],\n",
              "             [ 8.516818  , -2.5450778 ,  2.070625  ,  2.155124  ],\n",
              "             [ 8.642492  , -1.9720608 ,  1.9266529 ,  2.7875295 ],\n",
              "             [ 8.909078  , -1.4992522 ,  2.0574136 ,  3.1308033 ]],            dtype=float32)"
            ]
          },
          "metadata": {},
          "execution_count": 42
        }
      ]
    },
    {
      "cell_type": "code",
      "source": [
        "def plot_car_trajectory(y, x1, label1, x2=None, label2=None):\n",
        "    fig, ax = plt.subplots(figsize=(10, 10))\n",
        "    ax.scatter(y[:, 0], y[:, 1], marker=\"o\", label=\"Measurements\", color=\"red\")\n",
        "    ax.plot(x1[:, 0], x1[:, 1], label=label1, color=\"blue\")\n",
        "    if x2 is None:\n",
        "        ax.scatter(x1[0, 0], x1[0, 1], marker=\"x\", color=\"orange\", s=500)\n",
        "    else:\n",
        "        ax.plot(x2[:, 0], x2[:, 1], label=label2, color=\"orange\")\n",
        "    _ = ax.legend()\n",
        "    _ = ax.set_xlabel(\"${\\it x}_1$\")\n",
        "    _ = ax.set_ylabel(\"${\\it y}_1$\")"
      ],
      "metadata": {
        "id": "iTczxSHkHfCz"
      },
      "execution_count": 43,
      "outputs": []
    },
    {
      "cell_type": "code",
      "source": [
        "plot_car_trajectory(observations, states, \"Trajectory\", kf_m, \"Filter Estimate\")"
      ],
      "metadata": {
        "id": "8EcoHWkDGJ1v",
        "outputId": "654a56f0-8fde-4305-a570-8f8f54ba3aff",
        "colab": {
          "base_uri": "https://localhost:8080/",
          "height": 607
        }
      },
      "execution_count": 44,
      "outputs": [
        {
          "output_type": "display_data",
          "data": {
            "text/plain": [
              "<Figure size 720x720 with 1 Axes>"
            ],
            "image/png": "[encoded data removed]"
          },
          "metadata": {
            "needs_background": "light"
          }
        }
      ]
    },
    {
      "cell_type": "code",
      "source": [
        "def rmse(x, y):\n",
        "    \"\"\"Computes the RMSE between x and y along all their dimensions, x and y must have the same dimensions.\n",
        "        Parameters\n",
        "        ----------\n",
        "        x : (L,...) array_like\n",
        "            Initial mean of the state\n",
        "        y : (L, ...) array_like\n",
        "            Initial covariance of the state\n",
        "        Returns\n",
        "        -------\n",
        "        out : float\n",
        "            The RMSE\n",
        "    \"\"\"\n",
        "    return jnp.sqrt(jnp.mean(jnp.sum(jnp.square(x - y), -1)))"
      ],
      "metadata": {
        "id": "mg4OfbliH59S"
      },
      "execution_count": 46,
      "outputs": []
    },
    {
      "cell_type": "code",
      "source": [
        "rmse_raw = rmse(states[:, :2], observations)\n",
        "rmse_kf = rmse(kf_m[:, :2], states[:, :2])\n",
        "print(f\"RAW RMSE: {rmse_raw}\")\n",
        "print(f\"KF RMSE: {rmse_kf}\")"
      ],
      "metadata": {
        "id": "LTHheNOnHyN1",
        "outputId": "cac6f062-4f44-403b-81b6-42c5a8280f95",
        "colab": {
          "base_uri": "https://localhost:8080/"
        }
      },
      "execution_count": 47,
      "outputs": [
        {
          "output_type": "stream",
          "name": "stdout",
          "text": [
            "RAW RMSE: 0.7075555324554443\n",
            "KF RMSE: 0.3760867118835449\n"
          ]
        }
      ]
    },
    {
      "cell_type": "code",
      "source": [
        ""
      ],
      "metadata": {
        "id": "FmCRFnbeHysQ"
      },
      "execution_count": null,
      "outputs": []
    }
  ]
}