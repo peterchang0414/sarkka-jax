{
  "nbformat": 4,
  "nbformat_minor": 0,
  "metadata": {
    "colab": {
      "name": "car_track.ipynb",
      "provenance": [],
      "include_colab_link": true
    },
    "kernelspec": {
      "name": "python3",
      "display_name": "Python 3"
    },
    "language_info": {
      "name": "python"
    }
  },
  "cells": [
    {
      "cell_type": "markdown",
      "metadata": {
        "id": "view-in-github",
        "colab_type": "text"
      },
      "source": [
        "<a href=\"https://colab.research.google.com/github/petergchang/sarkka-jax/blob/main/car_track.ipynb\" target=\"_parent\"><img src=\"https://colab.research.google.com/assets/colab-badge.svg\" alt=\"Open In Colab\"/></a>"
      ]
    },
    {
      "cell_type": "code",
      "execution_count": 1,
      "metadata": {
        "id": "meHdQvzssf4T"
      },
      "outputs": [],
      "source": [
        "import jax.numpy as jnp\n",
        "import jax.random as jr\n",
        "from jax import lax\n",
        "import matplotlib.pyplot as plt"
      ]
    },
    {
      "cell_type": "code",
      "source": [
        "def _atleast2d(*args):\n",
        "    return tuple(jnp.atleast_2d(elem) for elem in args)"
      ],
      "metadata": {
        "id": "42GBPS-semTS"
      },
      "execution_count": 2,
      "outputs": []
    },
    {
      "cell_type": "code",
      "source": [
        "def generate_ssm_naive(key, m_0, A, Q, H, R, steps):\n",
        "    m_0 = jnp.atleast_1d(m_0)\n",
        "    A, Q, H, R = _atleast2d(A, Q, H, R)\n",
        "    \n",
        "    M, N = m_0.shape[-1], R.shape[-1]\n",
        "    states = []\n",
        "    observations = []\n",
        "\n",
        "    state = m_0\n",
        "    for i in range(steps):\n",
        "        key, rng = jr.split(key)\n",
        "        state = A @ state + jr.multivariate_normal(rng, jnp.zeros(M), Q, method='cholesky')\n",
        "        states.append(state)\n",
        "        obs = H @ state + jr.multivariate_normal(rng, jnp.zeros(N), R, method='cholesky')\n",
        "        observations.append(obs)\n",
        "    \n",
        "    return states, observations"
      ],
      "metadata": {
        "id": "cvBl4ABGcNg5"
      },
      "execution_count": 3,
      "outputs": []
    },
    {
      "cell_type": "code",
      "source": [
        "def generate_ssm(key, m_0, A, Q, H, R, steps):\n",
        "    def _step(carry, rng_and_t):\n",
        "        state = carry\n",
        "        rng, t = rng_and_t\n",
        "        rng1, rng2 = jr.split(rng, 2)\n",
        "        next_state = A @ state + jr.multivariate_normal(rng1, jnp.zeros(M), Q)\n",
        "        observation = H @ state + jr.multivariate_normal(rng2, jnp.zeros(N), R)\n",
        "        return next_state, (state, observation)\n",
        "    m_0 = jnp.atleast_1d(m_0)\n",
        "    A, Q, H, R = _atleast2d(A, Q, H, R)\n",
        "    M, N = m_0.shape[-1], R.shape[-1]\n",
        "\n",
        "    state = m_0\n",
        "    rngs = jr.split(key, steps)\n",
        "    _, (states, observations) = lax.scan(\n",
        "        _step, state, (rngs, jnp.arange(steps))\n",
        "    )\n",
        "    return states, observations"
      ],
      "metadata": {
        "id": "tgRyK9t8gjKu"
      },
      "execution_count": 4,
      "outputs": []
    },
    {
      "cell_type": "code",
      "source": [
        "M, N = 2, 1\n",
        "m_0 = jnp.zeros(M)\n",
        "P_0 = Q = jnp.array([[0.4, -0.2],\n",
        "                     [-0.2, 0.5]])\n",
        "A = jnp.zeros((M, M))\n",
        "H = [0., 0.]\n",
        "R = 0.5\n",
        "key = jr.PRNGKey(0)"
      ],
      "metadata": {
        "colab": {
          "base_uri": "https://localhost:8080/"
        },
        "id": "-PbzDFMtcF2e",
        "outputId": "3dac18e4-a3b6-4fc3-a63d-d5af73fc3213"
      },
      "execution_count": 5,
      "outputs": [
        {
          "output_type": "stream",
          "name": "stderr",
          "text": [
            "WARNING:absl:No GPU/TPU found, falling back to CPU. (Set TF_CPP_MIN_LOG_LEVEL=0 and rerun for more info.)\n"
          ]
        }
      ]
    },
    {
      "cell_type": "code",
      "source": [
        "%%time\n",
        "states, observations = generate_ssm_naive(key, m_0, A, Q, H, R, 100000)"
      ],
      "metadata": {
        "id": "qq1uc3Xicbbn",
        "outputId": "19b80f43-9d94-4462-f7ac-1ed46d503c94",
        "colab": {
          "base_uri": "https://localhost:8080/"
        }
      },
      "execution_count": 21,
      "outputs": [
        {
          "output_type": "stream",
          "name": "stdout",
          "text": [
            "CPU times: user 1min, sys: 295 ms, total: 1min\n",
            "Wall time: 1min 1s\n"
          ]
        }
      ]
    },
    {
      "cell_type": "code",
      "source": [
        "%%time\n",
        "states, observations = generate_ssm(key, m_0, A, Q, H, R, 100000)"
      ],
      "metadata": {
        "colab": {
          "base_uri": "https://localhost:8080/"
        },
        "id": "cKEwDNaAcIYE",
        "outputId": "032065fe-8372-46bc-f8ab-b410a59e1925"
      },
      "execution_count": 24,
      "outputs": [
        {
          "output_type": "stream",
          "name": "stdout",
          "text": [
            "CPU times: user 5.25 s, sys: 193 ms, total: 5.44 s\n",
            "Wall time: 5.23 s\n"
          ]
        }
      ]
    },
    {
      "cell_type": "code",
      "source": [
        "# Plot timed results against different step sizes\n",
        "import numpy as np\n",
        "import time\n",
        "\n",
        "key = jr.PRNGKey(0)\n",
        "step_grid = np.arange(0, 10000, 200)\n",
        "\n",
        "naive_times, lax_times = [], []\n",
        "for step_size in step_grid:\n",
        "    start = time.time()\n",
        "    _ = generate_ssm_naive(key, m_0, A, Q, H, R, step_size)\n",
        "    naive_time = time.time()-start\n",
        "    naive_times.append(naive_time)\n",
        "    start = time.time()\n",
        "    _ = generate_ssm(key, m_0, A, Q, H, R, step_size)\n",
        "    lax_time = time.time()-start\n",
        "    lax_times.append(lax_time)\n",
        "    if ((step_size%1000) == 0):\n",
        "        print(\"current step size = \", step_size)\n",
        "        print(\"naive approach took \", naive_time, \" seconds.\")\n",
        "        print(\"lax scan approach took \", lax_time, \" seconds.\")"
      ],
      "metadata": {
        "id": "2BMPSU8fdKtF",
        "outputId": "76f91424-d7fa-43fd-9d81-b8184e740b51",
        "colab": {
          "base_uri": "https://localhost:8080/"
        }
      },
      "execution_count": 11,
      "outputs": [
        {
          "output_type": "stream",
          "name": "stdout",
          "text": [
            "current step size =  0\n",
            "naive approach took  0.0007956027984619141  seconds.\n",
            "lax scan approach took  0.5086143016815186  seconds.\n",
            "current step size =  1000\n",
            "naive approach took  0.6456422805786133  seconds.\n",
            "lax scan approach took  0.9431383609771729  seconds.\n",
            "current step size =  2000\n",
            "naive approach took  1.332261562347412  seconds.\n",
            "lax scan approach took  1.0399634838104248  seconds.\n",
            "current step size =  3000\n",
            "naive approach took  1.9527490139007568  seconds.\n",
            "lax scan approach took  0.9888734817504883  seconds.\n",
            "current step size =  4000\n",
            "naive approach took  2.603656530380249  seconds.\n",
            "lax scan approach took  0.9959025382995605  seconds.\n",
            "current step size =  5000\n",
            "naive approach took  3.3379099369049072  seconds.\n",
            "lax scan approach took  0.9496066570281982  seconds.\n",
            "current step size =  6000\n",
            "naive approach took  3.900109052658081  seconds.\n",
            "lax scan approach took  0.8973994255065918  seconds.\n",
            "current step size =  7000\n",
            "naive approach took  4.601067066192627  seconds.\n",
            "lax scan approach took  1.0105831623077393  seconds.\n",
            "current step size =  8000\n",
            "naive approach took  5.29032826423645  seconds.\n",
            "lax scan approach took  1.0231716632843018  seconds.\n",
            "current step size =  9000\n",
            "naive approach took  5.972745895385742  seconds.\n",
            "lax scan approach took  0.9713997840881348  seconds.\n"
          ]
        }
      ]
    },
    {
      "cell_type": "code",
      "source": [
        "# Plot the result\n",
        "plt.figure()\n",
        "plt.plot(step_grid, naive_times, label='naive')\n",
        "plt.plot(step_grid, lax_times, label='lax')\n",
        "plt.xlabel('step grid size')\n",
        "plt.ylabel('compute time in s')\n",
        "plt.legend();\n",
        "plt.show()"
      ],
      "metadata": {
        "id": "aEaZLKn4ipgh",
        "outputId": "68383ae1-78f5-48a8-9f10-bbe1974a5263",
        "colab": {
          "base_uri": "https://localhost:8080/",
          "height": 279
        }
      },
      "execution_count": 12,
      "outputs": [
        {
          "output_type": "display_data",
          "data": {
            "text/plain": [
              "<Figure size 432x288 with 1 Axes>"
            ],
            "image/png": "[encoded data removed]"
          },
          "metadata": {
            "needs_background": "light"
          }
        }
      ]
    }
  ]
}