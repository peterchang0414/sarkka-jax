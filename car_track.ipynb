{
  "nbformat": 4,
  "nbformat_minor": 0,
  "metadata": {
    "colab": {
      "name": "car_track.ipynb",
      "provenance": [],
      "include_colab_link": true
    },
    "kernelspec": {
      "name": "python3",
      "display_name": "Python 3"
    },
    "language_info": {
      "name": "python"
    }
  },
  "cells": [
    {
      "cell_type": "markdown",
      "metadata": {
        "id": "view-in-github",
        "colab_type": "text"
      },
      "source": [
        "<a href=\"https://colab.research.google.com/github/petergchang/sarkka-jax/blob/main/car_track.ipynb\" target=\"_parent\"><img src=\"https://colab.research.google.com/assets/colab-badge.svg\" alt=\"Open In Colab\"/></a>"
      ]
    },
    {
      "cell_type": "code",
      "execution_count": 9,
      "metadata": {
        "id": "meHdQvzssf4T"
      },
      "outputs": [],
      "source": [
        "import jax.numpy as jnp\n",
        "import jax.random as jr\n",
        "from jax import lax"
      ]
    },
    {
      "cell_type": "code",
      "source": [
        "A = jnp.array([[0.4, -0.2],\n",
        "               [-0.2, 0.5]])\n",
        "mean = jnp.array([0.5, 0.5])"
      ],
      "metadata": {
        "id": "JLYeExOCZclA",
        "outputId": "15f35749-2be1-4e1f-88d9-1dbe4725a394",
        "colab": {
          "base_uri": "https://localhost:8080/"
        }
      },
      "execution_count": 2,
      "outputs": [
        {
          "output_type": "stream",
          "name": "stderr",
          "text": [
            "WARNING:absl:No GPU/TPU found, falling back to CPU. (Set TF_CPP_MIN_LOG_LEVEL=0 and rerun for more info.)\n"
          ]
        }
      ]
    },
    {
      "cell_type": "code",
      "source": [
        "B = jnp.linalg.cholesky(A)\n",
        "B"
      ],
      "metadata": {
        "colab": {
          "base_uri": "https://localhost:8080/"
        },
        "id": "7jn1G5vaafvb",
        "outputId": "114fed7d-2b37-4331-ee9a-b0f57b533ce2"
      },
      "execution_count": 3,
      "outputs": [
        {
          "output_type": "execute_result",
          "data": {
            "text/plain": [
              "DeviceArray([[ 0.6324555 ,  0.        ],\n",
              "             [-0.31622776,  0.6324555 ]], dtype=float32)"
            ]
          },
          "metadata": {},
          "execution_count": 3
        }
      ]
    },
    {
      "cell_type": "code",
      "source": [
        "key = jr.PRNGKey(0)\n",
        "jr.multivariate_normal(key, mean, A, shape=(1000,), method='cholesky')"
      ],
      "metadata": {
        "colab": {
          "base_uri": "https://localhost:8080/"
        },
        "id": "7eMUPyrtapBm",
        "outputId": "04c2eb9e-54ce-41b8-a201-4b42aad1d264"
      },
      "execution_count": 4,
      "outputs": [
        {
          "output_type": "execute_result",
          "data": {
            "text/plain": [
              "DeviceArray([[ 0.67499745,  0.29148975],\n",
              "             [-0.40067995,  1.0965476 ],\n",
              "             [-0.8792937 ,  1.6155363 ],\n",
              "             ...,\n",
              "             [ 0.7249069 ,  0.8972255 ],\n",
              "             [ 0.83733207, -0.89884055],\n",
              "             [ 1.1302555 ,  0.9071536 ]], dtype=float32)"
            ]
          },
          "metadata": {},
          "execution_count": 4
        }
      ]
    },
    {
      "cell_type": "code",
      "source": [
        "def _atleast2d(*args):\n",
        "    return tuple(jnp.atleast_2d(elem) for elem in args)"
      ],
      "metadata": {
        "id": "42GBPS-semTS"
      },
      "execution_count": 5,
      "outputs": []
    },
    {
      "cell_type": "code",
      "source": [
        "def generate_ssm(key, m_0, A, Q, H, R, steps):\n",
        "    m_0 = jnp.atleast_1d(m_0)\n",
        "    A, Q, H, R = _atleast2d(A, Q, H, R)\n",
        "    \n",
        "    M, N = m_0.shape[-1], R.shape[-1]\n",
        "    states = []\n",
        "    observations = []\n",
        "\n",
        "    state = m_0\n",
        "    for i in range(steps):\n",
        "        key, rng = jr.split(key)\n",
        "        state = A @ state + jr.multivariate_normal(rng, jnp.zeros(M), Q, method='cholesky')\n",
        "        states.append(state)\n",
        "        obs = H @ state + jr.multivariate_normal(rng, jnp.zeros(N), R, method='cholesky')\n",
        "        observations.append(obs)\n",
        "    \n",
        "    return states, observations"
      ],
      "metadata": {
        "id": "cvBl4ABGcNg5"
      },
      "execution_count": 6,
      "outputs": []
    },
    {
      "cell_type": "code",
      "source": [
        "M, N = 2, 1\n",
        "m_0 = jnp.zeros(M)\n",
        "P_0 = Q = jnp.array([[0.4, -0.2],\n",
        "                     [-0.2, 0.5]])\n",
        "A = jnp.zeros((M, M))\n",
        "H = [0., 0.]\n",
        "R = 0.5\n",
        "key = jr.PRNGKey(0)\n",
        "states, observations = generate_ssm(key, m_0, A, Q, H, R, 10000)"
      ],
      "metadata": {
        "id": "wEZsO4Mfcwz7"
      },
      "execution_count": 7,
      "outputs": []
    },
    {
      "cell_type": "code",
      "source": [
        "def generate_ssm(key, m_0, A, Q, H, R, steps):\n",
        "    def _step(carry, rng_and_t):\n",
        "        state = carry\n",
        "        rng, t = rng_and_t\n",
        "        rng1, rng2 = jr.split(rng, 2)\n",
        "        next_state = A @ state + jr.multivariate_normal(rng1, jnp.zeros(M), Q)\n",
        "        observation = H @ state + jr.multivariate_normal(rng2, jnp.zeros(N), R)\n",
        "        return next_state, (state, observation)\n",
        "    m_0 = jnp.atleast_1d(m_0)\n",
        "    A, Q, H, R = _atleast2d(A, Q, H, R)\n",
        "    M, N = m_0.shape[-1], R.shape[-1]\n",
        "\n",
        "    state = m_0\n",
        "    rngs = jr.split(key, steps)\n",
        "    _, (states, observations) = lax.scan(\n",
        "        _step, state, (rngs, jnp.arange(steps))\n",
        "    )\n",
        "    return states, observations"
      ],
      "metadata": {
        "id": "tgRyK9t8gjKu"
      },
      "execution_count": 10,
      "outputs": []
    },
    {
      "cell_type": "code",
      "source": [
        "M, N = 2, 1\n",
        "m_0 = jnp.zeros(M)\n",
        "P_0 = Q = jnp.array([[0.4, -0.2],\n",
        "                     [-0.2, 0.5]])\n",
        "A = jnp.zeros((M, M))\n",
        "H = [0., 0.]\n",
        "R = 0.5\n",
        "key = jr.PRNGKey(0)\n",
        "states, observations = generate_ssm(key, m_0, A, Q, H, R, 10000)"
      ],
      "metadata": {
        "id": "-PbzDFMtcF2e"
      },
      "execution_count": 11,
      "outputs": []
    },
    {
      "cell_type": "code",
      "source": [
        "states"
      ],
      "metadata": {
        "id": "plhnwUpUcHSc",
        "outputId": "9cfb292f-448a-499c-caf6-93f784461717",
        "colab": {
          "base_uri": "https://localhost:8080/"
        }
      },
      "execution_count": 12,
      "outputs": [
        {
          "output_type": "execute_result",
          "data": {
            "text/plain": [
              "DeviceArray([[ 0.        ,  0.        ],\n",
              "             [-0.5000623 , -0.02209828],\n",
              "             [ 0.17737901,  0.69841117],\n",
              "             ...,\n",
              "             [ 1.093647  , -1.5127336 ],\n",
              "             [-0.19785918,  0.9732304 ],\n",
              "             [ 1.0864521 ,  0.43852913]], dtype=float32)"
            ]
          },
          "metadata": {},
          "execution_count": 12
        }
      ]
    },
    {
      "cell_type": "code",
      "source": [
        ""
      ],
      "metadata": {
        "id": "cKEwDNaAcIYE"
      },
      "execution_count": null,
      "outputs": []
    }
  ]
}